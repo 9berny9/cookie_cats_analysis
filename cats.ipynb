{
  "nbformat": 4,
  "nbformat_minor": 0,
  "metadata": {
    "colab": {
      "name": "Untitled17.ipynb",
      "provenance": [],
      "authorship_tag": "ABX9TyPJRx/nMK8lL23CKbubgFzR",
      "include_colab_link": true
    },
    "kernelspec": {
      "name": "python3",
      "display_name": "Python 3"
    },
    "language_info": {
      "name": "python"
    }
  },
  "cells": [
    {
      "cell_type": "markdown",
      "metadata": {
        "id": "view-in-github",
        "colab_type": "text"
      },
      "source": [
        "<a href=\"https://colab.research.google.com/github/9berny9/cookie_cats_analysis/blob/main/cats.ipynb\" target=\"_parent\"><img src=\"https://colab.research.google.com/assets/colab-badge.svg\" alt=\"Open In Colab\"/></a>"
      ]
    },
    {
      "cell_type": "markdown",
      "source": [
        "# NAČTENÍ KNIHOVEN"
      ],
      "metadata": {
        "id": "xWxwhtjcvqhS"
      }
    },
    {
      "cell_type": "code",
      "execution_count": 173,
      "metadata": {
        "id": "gMDIwtXS6Suz"
      },
      "outputs": [],
      "source": [
        "import pandas as pd\n",
        "from matplotlib import pyplot as plt\n",
        "import seaborn as sns"
      ]
    },
    {
      "cell_type": "markdown",
      "source": [
        "# READING DATA"
      ],
      "metadata": {
        "id": "EfXZQ8P9uPbh"
      }
    },
    {
      "cell_type": "code",
      "source": [
        "url = 'https://raw.githubusercontent.com/9berny9/cookie_cats_analysis/main/cookie_cats.csv?token=GHSAT0AAAAAABTXMXCXNO4434XQSJR7QTR2YWG4M2Q'\n",
        "df = pd.read_csv(url, encoding='unicode_escape')"
      ],
      "metadata": {
        "id": "t5HfDV-b6Vw7"
      },
      "execution_count": 174,
      "outputs": []
    },
    {
      "cell_type": "code",
      "source": [
        "df.info()"
      ],
      "metadata": {
        "colab": {
          "base_uri": "https://localhost:8080/"
        },
        "id": "sM21fsWp7HnJ",
        "outputId": "6c247449-f7d9-4974-c2da-f1967080cd6e"
      },
      "execution_count": 175,
      "outputs": [
        {
          "output_type": "stream",
          "name": "stdout",
          "text": [
            "<class 'pandas.core.frame.DataFrame'>\n",
            "RangeIndex: 90189 entries, 0 to 90188\n",
            "Data columns (total 5 columns):\n",
            " #   Column          Non-Null Count  Dtype \n",
            "---  ------          --------------  ----- \n",
            " 0   userid          90189 non-null  int64 \n",
            " 1   version         90189 non-null  object\n",
            " 2   sum_gamerounds  90189 non-null  int64 \n",
            " 3   retention_1     90189 non-null  bool  \n",
            " 4   retention_7     90189 non-null  bool  \n",
            "dtypes: bool(2), int64(2), object(1)\n",
            "memory usage: 2.2+ MB\n"
          ]
        }
      ]
    },
    {
      "cell_type": "markdown",
      "source": [
        "Data neobsahují nulové hodnoty."
      ],
      "metadata": {
        "id": "Ua-BLLaj2NLG"
      }
    },
    {
      "cell_type": "code",
      "source": [
        "df.head()"
      ],
      "metadata": {
        "colab": {
          "base_uri": "https://localhost:8080/",
          "height": 206
        },
        "id": "tFdIRtcd8A8e",
        "outputId": "dbe47730-c52b-4269-86c6-825527fb294e"
      },
      "execution_count": 176,
      "outputs": [
        {
          "output_type": "execute_result",
          "data": {
            "text/plain": [
              "   userid  version  sum_gamerounds  retention_1  retention_7\n",
              "0     116  gate_30               3        False        False\n",
              "1     337  gate_30              38         True        False\n",
              "2     377  gate_40             165         True        False\n",
              "3     483  gate_40               1        False        False\n",
              "4     488  gate_40             179         True         True"
            ],
            "text/html": [
              "\n",
              "  <div id=\"df-b2a5a87a-9dbc-4e3d-abfe-ca272cd7b6f3\">\n",
              "    <div class=\"colab-df-container\">\n",
              "      <div>\n",
              "<style scoped>\n",
              "    .dataframe tbody tr th:only-of-type {\n",
              "        vertical-align: middle;\n",
              "    }\n",
              "\n",
              "    .dataframe tbody tr th {\n",
              "        vertical-align: top;\n",
              "    }\n",
              "\n",
              "    .dataframe thead th {\n",
              "        text-align: right;\n",
              "    }\n",
              "</style>\n",
              "<table border=\"1\" class=\"dataframe\">\n",
              "  <thead>\n",
              "    <tr style=\"text-align: right;\">\n",
              "      <th></th>\n",
              "      <th>userid</th>\n",
              "      <th>version</th>\n",
              "      <th>sum_gamerounds</th>\n",
              "      <th>retention_1</th>\n",
              "      <th>retention_7</th>\n",
              "    </tr>\n",
              "  </thead>\n",
              "  <tbody>\n",
              "    <tr>\n",
              "      <th>0</th>\n",
              "      <td>116</td>\n",
              "      <td>gate_30</td>\n",
              "      <td>3</td>\n",
              "      <td>False</td>\n",
              "      <td>False</td>\n",
              "    </tr>\n",
              "    <tr>\n",
              "      <th>1</th>\n",
              "      <td>337</td>\n",
              "      <td>gate_30</td>\n",
              "      <td>38</td>\n",
              "      <td>True</td>\n",
              "      <td>False</td>\n",
              "    </tr>\n",
              "    <tr>\n",
              "      <th>2</th>\n",
              "      <td>377</td>\n",
              "      <td>gate_40</td>\n",
              "      <td>165</td>\n",
              "      <td>True</td>\n",
              "      <td>False</td>\n",
              "    </tr>\n",
              "    <tr>\n",
              "      <th>3</th>\n",
              "      <td>483</td>\n",
              "      <td>gate_40</td>\n",
              "      <td>1</td>\n",
              "      <td>False</td>\n",
              "      <td>False</td>\n",
              "    </tr>\n",
              "    <tr>\n",
              "      <th>4</th>\n",
              "      <td>488</td>\n",
              "      <td>gate_40</td>\n",
              "      <td>179</td>\n",
              "      <td>True</td>\n",
              "      <td>True</td>\n",
              "    </tr>\n",
              "  </tbody>\n",
              "</table>\n",
              "</div>\n",
              "      <button class=\"colab-df-convert\" onclick=\"convertToInteractive('df-b2a5a87a-9dbc-4e3d-abfe-ca272cd7b6f3')\"\n",
              "              title=\"Convert this dataframe to an interactive table.\"\n",
              "              style=\"display:none;\">\n",
              "        \n",
              "  <svg xmlns=\"http://www.w3.org/2000/svg\" height=\"24px\"viewBox=\"0 0 24 24\"\n",
              "       width=\"24px\">\n",
              "    <path d=\"M0 0h24v24H0V0z\" fill=\"none\"/>\n",
              "    <path d=\"M18.56 5.44l.94 2.06.94-2.06 2.06-.94-2.06-.94-.94-2.06-.94 2.06-2.06.94zm-11 1L8.5 8.5l.94-2.06 2.06-.94-2.06-.94L8.5 2.5l-.94 2.06-2.06.94zm10 10l.94 2.06.94-2.06 2.06-.94-2.06-.94-.94-2.06-.94 2.06-2.06.94z\"/><path d=\"M17.41 7.96l-1.37-1.37c-.4-.4-.92-.59-1.43-.59-.52 0-1.04.2-1.43.59L10.3 9.45l-7.72 7.72c-.78.78-.78 2.05 0 2.83L4 21.41c.39.39.9.59 1.41.59.51 0 1.02-.2 1.41-.59l7.78-7.78 2.81-2.81c.8-.78.8-2.07 0-2.86zM5.41 20L4 18.59l7.72-7.72 1.47 1.35L5.41 20z\"/>\n",
              "  </svg>\n",
              "      </button>\n",
              "      \n",
              "  <style>\n",
              "    .colab-df-container {\n",
              "      display:flex;\n",
              "      flex-wrap:wrap;\n",
              "      gap: 12px;\n",
              "    }\n",
              "\n",
              "    .colab-df-convert {\n",
              "      background-color: #E8F0FE;\n",
              "      border: none;\n",
              "      border-radius: 50%;\n",
              "      cursor: pointer;\n",
              "      display: none;\n",
              "      fill: #1967D2;\n",
              "      height: 32px;\n",
              "      padding: 0 0 0 0;\n",
              "      width: 32px;\n",
              "    }\n",
              "\n",
              "    .colab-df-convert:hover {\n",
              "      background-color: #E2EBFA;\n",
              "      box-shadow: 0px 1px 2px rgba(60, 64, 67, 0.3), 0px 1px 3px 1px rgba(60, 64, 67, 0.15);\n",
              "      fill: #174EA6;\n",
              "    }\n",
              "\n",
              "    [theme=dark] .colab-df-convert {\n",
              "      background-color: #3B4455;\n",
              "      fill: #D2E3FC;\n",
              "    }\n",
              "\n",
              "    [theme=dark] .colab-df-convert:hover {\n",
              "      background-color: #434B5C;\n",
              "      box-shadow: 0px 1px 3px 1px rgba(0, 0, 0, 0.15);\n",
              "      filter: drop-shadow(0px 1px 2px rgba(0, 0, 0, 0.3));\n",
              "      fill: #FFFFFF;\n",
              "    }\n",
              "  </style>\n",
              "\n",
              "      <script>\n",
              "        const buttonEl =\n",
              "          document.querySelector('#df-b2a5a87a-9dbc-4e3d-abfe-ca272cd7b6f3 button.colab-df-convert');\n",
              "        buttonEl.style.display =\n",
              "          google.colab.kernel.accessAllowed ? 'block' : 'none';\n",
              "\n",
              "        async function convertToInteractive(key) {\n",
              "          const element = document.querySelector('#df-b2a5a87a-9dbc-4e3d-abfe-ca272cd7b6f3');\n",
              "          const dataTable =\n",
              "            await google.colab.kernel.invokeFunction('convertToInteractive',\n",
              "                                                     [key], {});\n",
              "          if (!dataTable) return;\n",
              "\n",
              "          const docLinkHtml = 'Like what you see? Visit the ' +\n",
              "            '<a target=\"_blank\" href=https://colab.research.google.com/notebooks/data_table.ipynb>data table notebook</a>'\n",
              "            + ' to learn more about interactive tables.';\n",
              "          element.innerHTML = '';\n",
              "          dataTable['output_type'] = 'display_data';\n",
              "          await google.colab.output.renderOutput(dataTable, element);\n",
              "          const docLink = document.createElement('div');\n",
              "          docLink.innerHTML = docLinkHtml;\n",
              "          element.appendChild(docLink);\n",
              "        }\n",
              "      </script>\n",
              "    </div>\n",
              "  </div>\n",
              "  "
            ]
          },
          "metadata": {},
          "execution_count": 176
        }
      ]
    },
    {
      "cell_type": "code",
      "source": [
        "df.tail()"
      ],
      "metadata": {
        "colab": {
          "base_uri": "https://localhost:8080/",
          "height": 206
        },
        "id": "h4lChqhcu3g8",
        "outputId": "c5de7cb1-25b1-484e-8610-11c9aca90ae5"
      },
      "execution_count": 177,
      "outputs": [
        {
          "output_type": "execute_result",
          "data": {
            "text/plain": [
              "        userid  version  sum_gamerounds  retention_1  retention_7\n",
              "90184  9999441  gate_40              97         True        False\n",
              "90185  9999479  gate_40              30        False        False\n",
              "90186  9999710  gate_30              28         True        False\n",
              "90187  9999768  gate_40              51         True        False\n",
              "90188  9999861  gate_40              16        False        False"
            ],
            "text/html": [
              "\n",
              "  <div id=\"df-c14584d0-47c0-428f-bef0-ea45acbba6f7\">\n",
              "    <div class=\"colab-df-container\">\n",
              "      <div>\n",
              "<style scoped>\n",
              "    .dataframe tbody tr th:only-of-type {\n",
              "        vertical-align: middle;\n",
              "    }\n",
              "\n",
              "    .dataframe tbody tr th {\n",
              "        vertical-align: top;\n",
              "    }\n",
              "\n",
              "    .dataframe thead th {\n",
              "        text-align: right;\n",
              "    }\n",
              "</style>\n",
              "<table border=\"1\" class=\"dataframe\">\n",
              "  <thead>\n",
              "    <tr style=\"text-align: right;\">\n",
              "      <th></th>\n",
              "      <th>userid</th>\n",
              "      <th>version</th>\n",
              "      <th>sum_gamerounds</th>\n",
              "      <th>retention_1</th>\n",
              "      <th>retention_7</th>\n",
              "    </tr>\n",
              "  </thead>\n",
              "  <tbody>\n",
              "    <tr>\n",
              "      <th>90184</th>\n",
              "      <td>9999441</td>\n",
              "      <td>gate_40</td>\n",
              "      <td>97</td>\n",
              "      <td>True</td>\n",
              "      <td>False</td>\n",
              "    </tr>\n",
              "    <tr>\n",
              "      <th>90185</th>\n",
              "      <td>9999479</td>\n",
              "      <td>gate_40</td>\n",
              "      <td>30</td>\n",
              "      <td>False</td>\n",
              "      <td>False</td>\n",
              "    </tr>\n",
              "    <tr>\n",
              "      <th>90186</th>\n",
              "      <td>9999710</td>\n",
              "      <td>gate_30</td>\n",
              "      <td>28</td>\n",
              "      <td>True</td>\n",
              "      <td>False</td>\n",
              "    </tr>\n",
              "    <tr>\n",
              "      <th>90187</th>\n",
              "      <td>9999768</td>\n",
              "      <td>gate_40</td>\n",
              "      <td>51</td>\n",
              "      <td>True</td>\n",
              "      <td>False</td>\n",
              "    </tr>\n",
              "    <tr>\n",
              "      <th>90188</th>\n",
              "      <td>9999861</td>\n",
              "      <td>gate_40</td>\n",
              "      <td>16</td>\n",
              "      <td>False</td>\n",
              "      <td>False</td>\n",
              "    </tr>\n",
              "  </tbody>\n",
              "</table>\n",
              "</div>\n",
              "      <button class=\"colab-df-convert\" onclick=\"convertToInteractive('df-c14584d0-47c0-428f-bef0-ea45acbba6f7')\"\n",
              "              title=\"Convert this dataframe to an interactive table.\"\n",
              "              style=\"display:none;\">\n",
              "        \n",
              "  <svg xmlns=\"http://www.w3.org/2000/svg\" height=\"24px\"viewBox=\"0 0 24 24\"\n",
              "       width=\"24px\">\n",
              "    <path d=\"M0 0h24v24H0V0z\" fill=\"none\"/>\n",
              "    <path d=\"M18.56 5.44l.94 2.06.94-2.06 2.06-.94-2.06-.94-.94-2.06-.94 2.06-2.06.94zm-11 1L8.5 8.5l.94-2.06 2.06-.94-2.06-.94L8.5 2.5l-.94 2.06-2.06.94zm10 10l.94 2.06.94-2.06 2.06-.94-2.06-.94-.94-2.06-.94 2.06-2.06.94z\"/><path d=\"M17.41 7.96l-1.37-1.37c-.4-.4-.92-.59-1.43-.59-.52 0-1.04.2-1.43.59L10.3 9.45l-7.72 7.72c-.78.78-.78 2.05 0 2.83L4 21.41c.39.39.9.59 1.41.59.51 0 1.02-.2 1.41-.59l7.78-7.78 2.81-2.81c.8-.78.8-2.07 0-2.86zM5.41 20L4 18.59l7.72-7.72 1.47 1.35L5.41 20z\"/>\n",
              "  </svg>\n",
              "      </button>\n",
              "      \n",
              "  <style>\n",
              "    .colab-df-container {\n",
              "      display:flex;\n",
              "      flex-wrap:wrap;\n",
              "      gap: 12px;\n",
              "    }\n",
              "\n",
              "    .colab-df-convert {\n",
              "      background-color: #E8F0FE;\n",
              "      border: none;\n",
              "      border-radius: 50%;\n",
              "      cursor: pointer;\n",
              "      display: none;\n",
              "      fill: #1967D2;\n",
              "      height: 32px;\n",
              "      padding: 0 0 0 0;\n",
              "      width: 32px;\n",
              "    }\n",
              "\n",
              "    .colab-df-convert:hover {\n",
              "      background-color: #E2EBFA;\n",
              "      box-shadow: 0px 1px 2px rgba(60, 64, 67, 0.3), 0px 1px 3px 1px rgba(60, 64, 67, 0.15);\n",
              "      fill: #174EA6;\n",
              "    }\n",
              "\n",
              "    [theme=dark] .colab-df-convert {\n",
              "      background-color: #3B4455;\n",
              "      fill: #D2E3FC;\n",
              "    }\n",
              "\n",
              "    [theme=dark] .colab-df-convert:hover {\n",
              "      background-color: #434B5C;\n",
              "      box-shadow: 0px 1px 3px 1px rgba(0, 0, 0, 0.15);\n",
              "      filter: drop-shadow(0px 1px 2px rgba(0, 0, 0, 0.3));\n",
              "      fill: #FFFFFF;\n",
              "    }\n",
              "  </style>\n",
              "\n",
              "      <script>\n",
              "        const buttonEl =\n",
              "          document.querySelector('#df-c14584d0-47c0-428f-bef0-ea45acbba6f7 button.colab-df-convert');\n",
              "        buttonEl.style.display =\n",
              "          google.colab.kernel.accessAllowed ? 'block' : 'none';\n",
              "\n",
              "        async function convertToInteractive(key) {\n",
              "          const element = document.querySelector('#df-c14584d0-47c0-428f-bef0-ea45acbba6f7');\n",
              "          const dataTable =\n",
              "            await google.colab.kernel.invokeFunction('convertToInteractive',\n",
              "                                                     [key], {});\n",
              "          if (!dataTable) return;\n",
              "\n",
              "          const docLinkHtml = 'Like what you see? Visit the ' +\n",
              "            '<a target=\"_blank\" href=https://colab.research.google.com/notebooks/data_table.ipynb>data table notebook</a>'\n",
              "            + ' to learn more about interactive tables.';\n",
              "          element.innerHTML = '';\n",
              "          dataTable['output_type'] = 'display_data';\n",
              "          await google.colab.output.renderOutput(dataTable, element);\n",
              "          const docLink = document.createElement('div');\n",
              "          docLink.innerHTML = docLinkHtml;\n",
              "          element.appendChild(docLink);\n",
              "        }\n",
              "      </script>\n",
              "    </div>\n",
              "  </div>\n",
              "  "
            ]
          },
          "metadata": {},
          "execution_count": 177
        }
      ]
    },
    {
      "cell_type": "markdown",
      "source": [
        "# Základní popisné statistiky"
      ],
      "metadata": {
        "id": "_W0FfCuDuRcq"
      }
    },
    {
      "cell_type": "code",
      "source": [
        "df.sum_gamerounds.describe()"
      ],
      "metadata": {
        "colab": {
          "base_uri": "https://localhost:8080/"
        },
        "id": "qW0QFpPc1r8T",
        "outputId": "5225e6d4-544d-4547-be6e-92dc6e62f1da"
      },
      "execution_count": 178,
      "outputs": [
        {
          "output_type": "execute_result",
          "data": {
            "text/plain": [
              "count    90189.000000\n",
              "mean        51.872457\n",
              "std        195.050858\n",
              "min          0.000000\n",
              "25%          5.000000\n",
              "50%         16.000000\n",
              "75%         51.000000\n",
              "max      49854.000000\n",
              "Name: sum_gamerounds, dtype: float64"
            ]
          },
          "metadata": {},
          "execution_count": 178
        }
      ]
    },
    {
      "cell_type": "markdown",
      "source": [
        "- data neobsahují nulové hodnoty (počet záznamů je shodný s počtem uživatelů)\n",
        "- 25% uživatelů z našeho datasetu odehrálo 5 her během 14 dnů.\n",
        "- 50% medián uživatelů z našeho datasetu odehrálo 16 her během 14 dnů.\n",
        "- 75% uživatelů z našeho datasetu odehrálo 51 her během 14 dnů.\n",
        "- minimální počet odehraných her je 0, takže uživatel pouze nainstaloval hru\n",
        "- maximální počet odehraných her je 49854 a tento počet her se výrazně vychyluje od ostatních odehraných her\n",
        "- směrodatná odchylka se výrazně liší od průměru, takže se v měření nachází odlehlá měření"
      ],
      "metadata": {
        "id": "mEYSeEb32DuE"
      }
    },
    {
      "cell_type": "markdown",
      "source": [
        "# Kontrola a čištění dat"
      ],
      "metadata": {
        "id": "vVgTIYQHvuFo"
      }
    },
    {
      "cell_type": "code",
      "source": [
        "df.isnull().sum()"
      ],
      "metadata": {
        "colab": {
          "base_uri": "https://localhost:8080/"
        },
        "id": "IN4vxv9Bvb1v",
        "outputId": "fde05214-8ed9-4d5e-8a62-3b2145d4be2a"
      },
      "execution_count": 179,
      "outputs": [
        {
          "output_type": "execute_result",
          "data": {
            "text/plain": [
              "userid            0\n",
              "version           0\n",
              "sum_gamerounds    0\n",
              "retention_1       0\n",
              "retention_7       0\n",
              "dtype: int64"
            ]
          },
          "metadata": {},
          "execution_count": 179
        }
      ]
    },
    {
      "cell_type": "markdown",
      "source": [
        "V datech se nenachází Null hodnoty"
      ],
      "metadata": {
        "id": "lLHiRuT88868"
      }
    },
    {
      "cell_type": "code",
      "source": [
        "# check unique user id\n",
        "df.userid.nunique()"
      ],
      "metadata": {
        "colab": {
          "base_uri": "https://localhost:8080/"
        },
        "id": "qP3ruCQuwF3a",
        "outputId": "408b5e59-2922-4c46-e0ce-0d572db8e788"
      },
      "execution_count": 180,
      "outputs": [
        {
          "output_type": "execute_result",
          "data": {
            "text/plain": [
              "90189"
            ]
          },
          "metadata": {},
          "execution_count": 180
        }
      ]
    },
    {
      "cell_type": "markdown",
      "source": [
        "User ID je vždy unikátní."
      ],
      "metadata": {
        "id": "P1Y1F62B9Mwc"
      }
    },
    {
      "cell_type": "code",
      "source": [
        "df.version.nunique()"
      ],
      "metadata": {
        "colab": {
          "base_uri": "https://localhost:8080/"
        },
        "id": "TCF2X-ss5MRG",
        "outputId": "34ad68cc-031e-4233-852d-3bf004427f0b"
      },
      "execution_count": 181,
      "outputs": [
        {
          "output_type": "execute_result",
          "data": {
            "text/plain": [
              "2"
            ]
          },
          "metadata": {},
          "execution_count": 181
        }
      ]
    },
    {
      "cell_type": "code",
      "source": [
        "df.version.value_counts()"
      ],
      "metadata": {
        "colab": {
          "base_uri": "https://localhost:8080/"
        },
        "id": "Hxlo16vD5RqA",
        "outputId": "ab807d51-f1ad-42d5-b106-3115fe7708c6"
      },
      "execution_count": 182,
      "outputs": [
        {
          "output_type": "execute_result",
          "data": {
            "text/plain": [
              "gate_40    45489\n",
              "gate_30    44700\n",
              "Name: version, dtype: int64"
            ]
          },
          "metadata": {},
          "execution_count": 182
        }
      ]
    },
    {
      "cell_type": "markdown",
      "source": [
        "V datasetu se nachází pouze dvě verze módů, což odpovídá A/B testování a Gate 40 má více záznamů než Gate 30.\n"
      ],
      "metadata": {
        "id": "2mrXz7Mb5fIj"
      }
    },
    {
      "cell_type": "code",
      "source": [
        "df.boxplot(column=\"sum_gamerounds\", by=\"version\", figsize=(5, 8));"
      ],
      "metadata": {
        "colab": {
          "base_uri": "https://localhost:8080/",
          "height": 596
        },
        "id": "tKAqkAjNOQoa",
        "outputId": "d95647f0-c4f1-43d3-aa32-73aa0c7e9125"
      },
      "execution_count": 183,
      "outputs": [
        {
          "output_type": "stream",
          "name": "stderr",
          "text": [
            "/usr/local/lib/python3.7/dist-packages/matplotlib/cbook/__init__.py:1376: VisibleDeprecationWarning: Creating an ndarray from ragged nested sequences (which is a list-or-tuple of lists-or-tuples-or ndarrays with different lengths or shapes) is deprecated. If you meant to do this, you must specify 'dtype=object' when creating the ndarray.\n",
            "  X = np.atleast_1d(X.T if isinstance(X, np.ndarray) else np.asarray(X))\n"
          ]
        },
        {
          "output_type": "display_data",
          "data": {
            "text/plain": [
              "<Figure size 360x576 with 1 Axes>"
            ],
            "image/png": "[encoded data removed]"
          },
          "metadata": {
            "needs_background": "light"
          }
        }
      ]
    },
    {
      "cell_type": "markdown",
      "source": [
        "Z krabicového grafu jsme nalezli výskyt odlehlých měření, které je potřeba vyfiltrovat."
      ],
      "metadata": {
        "id": "jmioymgy9-8a"
      }
    },
    {
      "cell_type": "code",
      "source": [
        "# rozdělení dat podle A/B testu\n",
        "data_gate30 = df[df.version == \"gate_30\"].sum_gamerounds\n",
        "data_gate40 = df[df.version == \"gate_40\"].sum_gamerounds"
      ],
      "metadata": {
        "id": "dRzjekVASwka"
      },
      "execution_count": 184,
      "outputs": []
    },
    {
      "cell_type": "code",
      "source": [
        "# Metoda IQR - interquartal range \n",
        "# Gate 30\n",
        "Q1_a = data_gate30.quantile(0.25)\n",
        "Q3_a = data_gate30.quantile(0.75)\n",
        "IQR_a = Q3_a - Q1_a\n",
        "dolni_hranice_a = Q1_a - 1.5 * IQR_a\n",
        "horni_hranice_a = Q3_a + 1.5 * IQR_a\n",
        "\n",
        "# Gate 40\n",
        "Q1_b = data_gate40.quantile(0.25)\n",
        "Q3_b = data_gate40.quantile(0.75)\n",
        "IQR_b = Q3_b - Q1_b\n",
        "dolni_hranice_b = Q1_b - 1.5 * IQR_b\n",
        "horni_hranice_b = Q3_b + 1.5 * IQR_b\n",
        "\n",
        "# Zobrazení\n",
        "print(\"Dolní hranice pro Gate 30: \", dolni_hranice_a)\n",
        "print(\"Horní hranice pro Gate 30: \", horni_hranice_a)\n",
        "print('')\n",
        "print(\"Dolní hranice pro Gate 40: \", dolni_hranice_b)\n",
        "print(\"Horní hranice pro Gate 40: \", horni_hranice_b)"
      ],
      "metadata": {
        "colab": {
          "base_uri": "https://localhost:8080/"
        },
        "id": "3_7kyegoRSWa",
        "outputId": "2fa260e2-7c35-42fb-dfea-0317833a7533"
      },
      "execution_count": 185,
      "outputs": [
        {
          "output_type": "stream",
          "name": "stdout",
          "text": [
            "Dolní hranice pro Gate 30:  -62.5\n",
            "Horní hranice pro Gate 30:  117.5\n",
            "\n",
            "Dolní hranice pro Gate 40:  -65.5\n",
            "Horní hranice pro Gate 40:  122.5\n"
          ]
        }
      ]
    },
    {
      "cell_type": "code",
      "source": [
        "# kopie datasetu pro analýzu\n",
        "df1 = df.copy()"
      ],
      "metadata": {
        "id": "a4Hwu1iTkXxa"
      },
      "execution_count": 186,
      "outputs": []
    },
    {
      "cell_type": "code",
      "source": [
        "# odstranění záznamů nad horní hranicí rozsahu\n",
        "df1.drop(df1[(df1[\"version\"] == \"gate_30\") & (df1['sum_gamerounds'] > horni_hranice_a)].index, inplace=True)\n",
        "df1.drop(df1[(df1[\"version\"] == \"gate_40\") & (df1['sum_gamerounds'] > horni_hranice_b)].index, inplace=True)"
      ],
      "metadata": {
        "id": "f8YiHedNlANP"
      },
      "execution_count": 187,
      "outputs": []
    },
    {
      "cell_type": "markdown",
      "source": [
        "Pro přesnější výsledek hypotézy jsem vyfiltroval pro každou bránu hodnoty vypočítané z interkvartálního rozsahu a pouze hodnoty větší než je horní hranice."
      ],
      "metadata": {
        "id": "GlSe9J0mmxVM"
      }
    },
    {
      "cell_type": "code",
      "source": [
        "df1.boxplot(column=\"sum_gamerounds\", by=\"version\", figsize=(5, 8));"
      ],
      "metadata": {
        "id": "q5uNvSWVnLfv",
        "outputId": "eab17fd5-a1e2-4707-e091-36efafb0a60f",
        "colab": {
          "base_uri": "https://localhost:8080/",
          "height": 596
        }
      },
      "execution_count": 188,
      "outputs": [
        {
          "output_type": "stream",
          "name": "stderr",
          "text": [
            "/usr/local/lib/python3.7/dist-packages/matplotlib/cbook/__init__.py:1376: VisibleDeprecationWarning: Creating an ndarray from ragged nested sequences (which is a list-or-tuple of lists-or-tuples-or ndarrays with different lengths or shapes) is deprecated. If you meant to do this, you must specify 'dtype=object' when creating the ndarray.\n",
            "  X = np.atleast_1d(X.T if isinstance(X, np.ndarray) else np.asarray(X))\n"
          ]
        },
        {
          "output_type": "display_data",
          "data": {
            "text/plain": [
              "<Figure size 360x576 with 1 Axes>"
            ],
            "image/png": "[encoded data removed]"
          },
          "metadata": {
            "needs_background": "light"
          }
        }
      ]
    },
    {
      "cell_type": "code",
      "source": [
        "df1.version.value_counts()"
      ],
      "metadata": {
        "id": "HoZCwg_Gnkjw",
        "outputId": "54ea5ed9-1e46-47aa-c542-86d169f70b6b",
        "colab": {
          "base_uri": "https://localhost:8080/"
        }
      },
      "execution_count": 189,
      "outputs": [
        {
          "output_type": "execute_result",
          "data": {
            "text/plain": [
              "gate_40    40471\n",
              "gate_30    39493\n",
              "Name: version, dtype: int64"
            ]
          },
          "metadata": {},
          "execution_count": 189
        }
      ]
    },
    {
      "cell_type": "markdown",
      "source": [
        "Vyfiltrovaný dataset nyní obsahuje **79 964** měření.  \n",
        "pro gate_30: **39 493 záznamů**  \n",
        "pro gate_40: **40 471 záznamů**  "
      ],
      "metadata": {
        "id": "GMgMevQ4nrl6"
      }
    },
    {
      "cell_type": "markdown",
      "source": [
        "Dataset je vyfiltrovaný a považuji ho za připravený k vytvoření hypotézy A/B testování."
      ],
      "metadata": {
        "id": "LP6ZVT6soWcQ"
      }
    },
    {
      "cell_type": "markdown",
      "source": [
        "# Průzkum dat"
      ],
      "metadata": {
        "id": "stwBFQlao305"
      }
    },
    {
      "cell_type": "markdown",
      "source": [
        "V této částu si statisticky vyhodnotím a zodpovím základní otázky, které mi umožní porozumět chování hráčů. Pro přehlednost si dataframe rozdělím na dva dataframy podle skupin verzí."
      ],
      "metadata": {
        "id": "T7N-P9_aPQDr"
      }
    },
    {
      "cell_type": "code",
      "source": [
        "# proměnné dataframu rozdělený podle skupin\n",
        "df_30 = df1[df1[\"version\"] == \"gate_30\"]\n",
        "df_40 = df1[df1[\"version\"] == \"gate_40\"]"
      ],
      "metadata": {
        "id": "bXU_N-E6sQea"
      },
      "execution_count": 190,
      "outputs": []
    },
    {
      "cell_type": "markdown",
      "source": [
        "## Počet hráčů, kteří hru pouze nainstalovali, ale nikdy ji nehráli"
      ],
      "metadata": {
        "id": "QlO89wGZAA75"
      }
    },
    {
      "cell_type": "code",
      "source": [
        "inactive_users = df1[df1[\"sum_gamerounds\"] == 0].userid.count()"
      ],
      "metadata": {
        "id": "E-v9EhS2Qsk0"
      },
      "execution_count": 212,
      "outputs": []
    },
    {
      "cell_type": "code",
      "source": [
        "inactive_percent = round((inactive_users / df.userid.count()) * 100, 2)"
      ],
      "metadata": {
        "id": "ya6Dmg9FQexb"
      },
      "execution_count": 217,
      "outputs": []
    },
    {
      "cell_type": "code",
      "source": [
        "print(f\"Počet hráčů. kteří nikdy hru nehráli je: {inactive_users}, což je {inactive_percent}% ze všech hráčů\")"
      ],
      "metadata": {
        "id": "hKqMvjHgAGaF",
        "outputId": "2170f179-954d-464b-b9f2-cd4eb4a3df43",
        "colab": {
          "base_uri": "https://localhost:8080/"
        }
      },
      "execution_count": 218,
      "outputs": [
        {
          "output_type": "stream",
          "name": "stdout",
          "text": [
            "Počet hráčů. kteří nikdy hru nehráli je: 3994, což je 4.43% ze všech hráčů\n"
          ]
        }
      ]
    },
    {
      "cell_type": "markdown",
      "source": [
        "## Kolik průměrně procent hráčů se vrátilo po 1 dni a 7 dnech?"
      ],
      "metadata": {
        "id": "fM9dqB-Z8ReX"
      }
    },
    {
      "cell_type": "markdown",
      "source": [
        "### Retention 1"
      ],
      "metadata": {
        "id": "dXkq8mJVSsdt"
      }
    },
    {
      "cell_type": "code",
      "source": [
        "df_30.retention_1.value_counts(normalize=True)"
      ],
      "metadata": {
        "id": "qO73sNqpThd7",
        "outputId": "5bf37127-de2d-40f6-b01c-6543d67a3f21",
        "colab": {
          "base_uri": "https://localhost:8080/"
        }
      },
      "execution_count": 226,
      "outputs": [
        {
          "output_type": "execute_result",
          "data": {
            "text/plain": [
              "False    0.612564\n",
              "True     0.387436\n",
              "Name: retention_1, dtype: float64"
            ]
          },
          "metadata": {},
          "execution_count": 226
        }
      ]
    },
    {
      "cell_type": "code",
      "source": [
        "df_40.retention_1.value_counts(normalize=True)"
      ],
      "metadata": {
        "id": "sJ6puMpYTq7X",
        "outputId": "adecd3c3-3095-4388-f9c0-ac8d934ab5a9",
        "colab": {
          "base_uri": "https://localhost:8080/"
        }
      },
      "execution_count": 229,
      "outputs": [
        {
          "output_type": "execute_result",
          "data": {
            "text/plain": [
              "False    0.615577\n",
              "True     0.384423\n",
              "Name: retention_1, dtype: float64"
            ]
          },
          "metadata": {},
          "execution_count": 229
        }
      ]
    },
    {
      "cell_type": "markdown",
      "source": [
        "**Gate 30**:  Pouze 38,74% hráčů se vrací do hry po 7 dnech.  \n",
        "**Gate 40**: Pouze 38,44% hráčů se vrací do hry po 7 dnech.  "
      ],
      "metadata": {
        "id": "QyC3-ln2T8kV"
      }
    },
    {
      "cell_type": "markdown",
      "source": [
        "### Retention 7"
      ],
      "metadata": {
        "id": "ofWnVxGQSyqs"
      }
    },
    {
      "cell_type": "code",
      "source": [
        "df_30.retention_7.value_counts(normalize=True)"
      ],
      "metadata": {
        "id": "xMh-YpVFTu8i",
        "outputId": "d129533c-c520-4946-9243-63a40b3d9123",
        "colab": {
          "base_uri": "https://localhost:8080/"
        }
      },
      "execution_count": 227,
      "outputs": [
        {
          "output_type": "execute_result",
          "data": {
            "text/plain": [
              "False    0.883473\n",
              "True     0.116527\n",
              "Name: retention_7, dtype: float64"
            ]
          },
          "metadata": {},
          "execution_count": 227
        }
      ]
    },
    {
      "cell_type": "code",
      "source": [
        "df_40.retention_7.value_counts(normalize=True)"
      ],
      "metadata": {
        "id": "qNqdIHtnTsbr",
        "outputId": "b4cfe532-356e-4078-f6d9-4a290bf69d75",
        "colab": {
          "base_uri": "https://localhost:8080/"
        }
      },
      "execution_count": 228,
      "outputs": [
        {
          "output_type": "execute_result",
          "data": {
            "text/plain": [
              "False    0.889155\n",
              "True     0.110845\n",
              "Name: retention_7, dtype: float64"
            ]
          },
          "metadata": {},
          "execution_count": 228
        }
      ]
    },
    {
      "cell_type": "markdown",
      "source": [
        "**Gate 30**:  Pouze 11,65% hráčů se vrací do hry po 7 dnech.  \n",
        "**Gate 40**: Pouze 11,08% hráčů se vrací do hry po 7 dnech.  "
      ],
      "metadata": {
        "id": "zV8hJgMmUFXb"
      }
    },
    {
      "cell_type": "markdown",
      "source": [
        "Z průměru počtu hráčů podle skupin, kteří se vrací do hry lze vidět minimální rozdíl přibližně kolem 0,5% v obou retenčních případech."
      ],
      "metadata": {
        "id": "U-zN5Evs_eUQ"
      }
    },
    {
      "cell_type": "markdown",
      "source": [
        "## Jak se hráči chovají s přibývajícím počtem her?"
      ],
      "metadata": {
        "id": "-4miOr-A_7Nr"
      }
    },
    {
      "cell_type": "code",
      "source": [
        "# Graf počtu hráčů seskupených podle hracích kol\n",
        "grouped_df = df1.groupby('sum_gamerounds').count().reset_index()\n",
        "\n",
        "ax = grouped_df.plot('sum_gamerounds', y=\"userid\")\n",
        "ax.set_xlabel(\"Počet kol\")\n",
        "ax.set_ylabel(\"Počet hráčů\")\n",
        "ax.set_title(\"Počet hráčů podle hracích kol\");"
      ],
      "metadata": {
        "id": "r0ldC53GvlBN",
        "outputId": "2c360554-70d9-4256-ea2f-1c6a27beed3a",
        "colab": {
          "base_uri": "https://localhost:8080/",
          "height": 296
        }
      },
      "execution_count": 198,
      "outputs": [
        {
          "output_type": "display_data",
          "data": {
            "text/plain": [
              "<Figure size 432x288 with 1 Axes>"
            ],
            "image/png": "[encoded data removed]"
          },
          "metadata": {
            "needs_background": "light"
          }
        }
      ]
    },
    {
      "cell_type": "markdown",
      "source": [
        "Z grafu lze vidět, že většina hráčů odehraje pouze prvních pár kol. Zde je vidět, že naprostá většina hráčů neodehraje ani 20 kol hry. Zde je potřeba zjistit jestli odcházení hráčů není způsobeno dosažením platební brány nebo obtížností hry a vyvodit závěry jak udržet hráče déle ve hře."
      ],
      "metadata": {
        "id": "eWOoaeVWBU3U"
      }
    },
    {
      "cell_type": "markdown",
      "source": [
        "## Jaký je průměrný počet odehraných kol hry každé skupiny?"
      ],
      "metadata": {
        "id": "Pco0pQ9BKMEP"
      }
    },
    {
      "cell_type": "markdown",
      "source": [
        "Zde mě budou zajímat pouze aktivní hráči a z toho důvodu vyfiltruji hráče, kteří neodehráli žádné kolo."
      ],
      "metadata": {
        "id": "yyzmBGZlK_Aa"
      }
    },
    {
      "cell_type": "code",
      "source": [
        "df_30[df_30.sum_gamerounds > 0].sum_gamerounds.describe()"
      ],
      "metadata": {
        "id": "iBQQzQY_LNxG",
        "outputId": "95cb589c-b698-468c-ba01-2744ae29f096",
        "colab": {
          "base_uri": "https://localhost:8080/"
        }
      },
      "execution_count": 209,
      "outputs": [
        {
          "output_type": "execute_result",
          "data": {
            "text/plain": [
              "count    37556.000000\n",
              "mean        24.813558\n",
              "std         26.701846\n",
              "min          1.000000\n",
              "25%          5.000000\n",
              "50%         14.000000\n",
              "75%         36.000000\n",
              "max        117.000000\n",
              "Name: sum_gamerounds, dtype: float64"
            ]
          },
          "metadata": {},
          "execution_count": 209
        }
      ]
    },
    {
      "cell_type": "code",
      "source": [
        "df_40[df_40.sum_gamerounds > 0].sum_gamerounds.describe()"
      ],
      "metadata": {
        "id": "RbwXg8kkKaSO",
        "outputId": "07ff8130-a7ae-4246-e611-7c1cc6efa2e4",
        "colab": {
          "base_uri": "https://localhost:8080/"
        }
      },
      "execution_count": 210,
      "outputs": [
        {
          "output_type": "execute_result",
          "data": {
            "text/plain": [
              "count    38414.000000\n",
              "mean        25.544307\n",
              "std         28.338013\n",
              "min          1.000000\n",
              "25%          5.000000\n",
              "50%         14.000000\n",
              "75%         36.000000\n",
              "max        122.000000\n",
              "Name: sum_gamerounds, dtype: float64"
            ]
          },
          "metadata": {},
          "execution_count": 210
        }
      ]
    },
    {
      "cell_type": "markdown",
      "source": [
        "Průměrný počet odehraných kol se příliš neliší a hráči obou skupin průměrně odehrají **25 kol**."
      ],
      "metadata": {
        "id": "7rzWagBiLbUy"
      }
    }
  ]
}