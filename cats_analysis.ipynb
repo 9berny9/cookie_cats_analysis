{
  "nbformat": 4,
  "nbformat_minor": 0,
  "metadata": {
    "colab": {
      "name": "Untitled17.ipynb",
      "provenance": [],
      "authorship_tag": "ABX9TyNsmhvz9uO66LyXv0GgUTRB"
    },
    "kernelspec": {
      "name": "python3",
      "display_name": "Python 3"
    },
    "language_info": {
      "name": "python"
    }
  },
  "cells": [
    {
      "cell_type": "markdown",
      "source": [
        "# NAČTENÍ KNIHOVEN"
      ],
      "metadata": {
        "id": "xWxwhtjcvqhS"
      }
    },
    {
      "cell_type": "code",
      "execution_count": 887,
      "metadata": {
        "id": "gMDIwtXS6Suz"
      },
      "outputs": [],
      "source": [
        "import pandas as pd\n",
        "import seaborn as sns\n",
        "import numpy as np\n",
        "from matplotlib import pyplot as plt\n",
        "from scipy.stats import chi2_contingency"
      ]
    },
    {
      "cell_type": "markdown",
      "source": [
        "# READING DATA"
      ],
      "metadata": {
        "id": "EfXZQ8P9uPbh"
      }
    },
    {
      "cell_type": "code",
      "source": [
        "url = 'https://raw.githubusercontent.com/9berny9/cookie_cats_analysis/main/cookie_cats.csv?token=GHSAT0AAAAAABTXMXCXNO4434XQSJR7QTR2YWG4M2Q'\n",
        "df = pd.read_csv(url, encoding='unicode_escape')"
      ],
      "metadata": {
        "id": "t5HfDV-b6Vw7"
      },
      "execution_count": 888,
      "outputs": []
    },
    {
      "cell_type": "code",
      "source": [
        "df.info()"
      ],
      "metadata": {
        "colab": {
          "base_uri": "https://localhost:8080/"
        },
        "id": "sM21fsWp7HnJ",
        "outputId": "c28df67c-1164-4220-cc8a-82a974ff8b37"
      },
      "execution_count": 889,
      "outputs": [
        {
          "output_type": "stream",
          "name": "stdout",
          "text": [
            "<class 'pandas.core.frame.DataFrame'>\n",
            "RangeIndex: 90189 entries, 0 to 90188\n",
            "Data columns (total 5 columns):\n",
            " #   Column          Non-Null Count  Dtype \n",
            "---  ------          --------------  ----- \n",
            " 0   userid          90189 non-null  int64 \n",
            " 1   version         90189 non-null  object\n",
            " 2   sum_gamerounds  90189 non-null  int64 \n",
            " 3   retention_1     90189 non-null  bool  \n",
            " 4   retention_7     90189 non-null  bool  \n",
            "dtypes: bool(2), int64(2), object(1)\n",
            "memory usage: 2.2+ MB\n"
          ]
        }
      ]
    },
    {
      "cell_type": "markdown",
      "source": [
        "Data neobsahují nulové hodnoty."
      ],
      "metadata": {
        "id": "Ua-BLLaj2NLG"
      }
    },
    {
      "cell_type": "code",
      "source": [
        "df.head()"
      ],
      "metadata": {
        "colab": {
          "base_uri": "https://localhost:8080/",
          "height": 206
        },
        "id": "tFdIRtcd8A8e",
        "outputId": "1215df58-51bb-4861-b10a-1453fd90763c"
      },
      "execution_count": 890,
      "outputs": [
        {
          "output_type": "execute_result",
          "data": {
            "text/plain": [
              "   userid  version  sum_gamerounds  retention_1  retention_7\n",
              "0     116  gate_30               3        False        False\n",
              "1     337  gate_30              38         True        False\n",
              "2     377  gate_40             165         True        False\n",
              "3     483  gate_40               1        False        False\n",
              "4     488  gate_40             179         True         True"
            ],
            "text/html": [
              "\n",
              "  <div id=\"df-61b49703-dd0c-4b1c-b021-2cf25dbf3289\">\n",
              "    <div class=\"colab-df-container\">\n",
              "      <div>\n",
              "<style scoped>\n",
              "    .dataframe tbody tr th:only-of-type {\n",
              "        vertical-align: middle;\n",
              "    }\n",
              "\n",
              "    .dataframe tbody tr th {\n",
              "        vertical-align: top;\n",
              "    }\n",
              "\n",
              "    .dataframe thead th {\n",
              "        text-align: right;\n",
              "    }\n",
              "</style>\n",
              "<table border=\"1\" class=\"dataframe\">\n",
              "  <thead>\n",
              "    <tr style=\"text-align: right;\">\n",
              "      <th></th>\n",
              "      <th>userid</th>\n",
              "      <th>version</th>\n",
              "      <th>sum_gamerounds</th>\n",
              "      <th>retention_1</th>\n",
              "      <th>retention_7</th>\n",
              "    </tr>\n",
              "  </thead>\n",
              "  <tbody>\n",
              "    <tr>\n",
              "      <th>0</th>\n",
              "      <td>116</td>\n",
              "      <td>gate_30</td>\n",
              "      <td>3</td>\n",
              "      <td>False</td>\n",
              "      <td>False</td>\n",
              "    </tr>\n",
              "    <tr>\n",
              "      <th>1</th>\n",
              "      <td>337</td>\n",
              "      <td>gate_30</td>\n",
              "      <td>38</td>\n",
              "      <td>True</td>\n",
              "      <td>False</td>\n",
              "    </tr>\n",
              "    <tr>\n",
              "      <th>2</th>\n",
              "      <td>377</td>\n",
              "      <td>gate_40</td>\n",
              "      <td>165</td>\n",
              "      <td>True</td>\n",
              "      <td>False</td>\n",
              "    </tr>\n",
              "    <tr>\n",
              "      <th>3</th>\n",
              "      <td>483</td>\n",
              "      <td>gate_40</td>\n",
              "      <td>1</td>\n",
              "      <td>False</td>\n",
              "      <td>False</td>\n",
              "    </tr>\n",
              "    <tr>\n",
              "      <th>4</th>\n",
              "      <td>488</td>\n",
              "      <td>gate_40</td>\n",
              "      <td>179</td>\n",
              "      <td>True</td>\n",
              "      <td>True</td>\n",
              "    </tr>\n",
              "  </tbody>\n",
              "</table>\n",
              "</div>\n",
              "      <button class=\"colab-df-convert\" onclick=\"convertToInteractive('df-61b49703-dd0c-4b1c-b021-2cf25dbf3289')\"\n",
              "              title=\"Convert this dataframe to an interactive table.\"\n",
              "              style=\"display:none;\">\n",
              "        \n",
              "  <svg xmlns=\"http://www.w3.org/2000/svg\" height=\"24px\"viewBox=\"0 0 24 24\"\n",
              "       width=\"24px\">\n",
              "    <path d=\"M0 0h24v24H0V0z\" fill=\"none\"/>\n",
              "    <path d=\"M18.56 5.44l.94 2.06.94-2.06 2.06-.94-2.06-.94-.94-2.06-.94 2.06-2.06.94zm-11 1L8.5 8.5l.94-2.06 2.06-.94-2.06-.94L8.5 2.5l-.94 2.06-2.06.94zm10 10l.94 2.06.94-2.06 2.06-.94-2.06-.94-.94-2.06-.94 2.06-2.06.94z\"/><path d=\"M17.41 7.96l-1.37-1.37c-.4-.4-.92-.59-1.43-.59-.52 0-1.04.2-1.43.59L10.3 9.45l-7.72 7.72c-.78.78-.78 2.05 0 2.83L4 21.41c.39.39.9.59 1.41.59.51 0 1.02-.2 1.41-.59l7.78-7.78 2.81-2.81c.8-.78.8-2.07 0-2.86zM5.41 20L4 18.59l7.72-7.72 1.47 1.35L5.41 20z\"/>\n",
              "  </svg>\n",
              "      </button>\n",
              "      \n",
              "  <style>\n",
              "    .colab-df-container {\n",
              "      display:flex;\n",
              "      flex-wrap:wrap;\n",
              "      gap: 12px;\n",
              "    }\n",
              "\n",
              "    .colab-df-convert {\n",
              "      background-color: #E8F0FE;\n",
              "      border: none;\n",
              "      border-radius: 50%;\n",
              "      cursor: pointer;\n",
              "      display: none;\n",
              "      fill: #1967D2;\n",
              "      height: 32px;\n",
              "      padding: 0 0 0 0;\n",
              "      width: 32px;\n",
              "    }\n",
              "\n",
              "    .colab-df-convert:hover {\n",
              "      background-color: #E2EBFA;\n",
              "      box-shadow: 0px 1px 2px rgba(60, 64, 67, 0.3), 0px 1px 3px 1px rgba(60, 64, 67, 0.15);\n",
              "      fill: #174EA6;\n",
              "    }\n",
              "\n",
              "    [theme=dark] .colab-df-convert {\n",
              "      background-color: #3B4455;\n",
              "      fill: #D2E3FC;\n",
              "    }\n",
              "\n",
              "    [theme=dark] .colab-df-convert:hover {\n",
              "      background-color: #434B5C;\n",
              "      box-shadow: 0px 1px 3px 1px rgba(0, 0, 0, 0.15);\n",
              "      filter: drop-shadow(0px 1px 2px rgba(0, 0, 0, 0.3));\n",
              "      fill: #FFFFFF;\n",
              "    }\n",
              "  </style>\n",
              "\n",
              "      <script>\n",
              "        const buttonEl =\n",
              "          document.querySelector('#df-61b49703-dd0c-4b1c-b021-2cf25dbf3289 button.colab-df-convert');\n",
              "        buttonEl.style.display =\n",
              "          google.colab.kernel.accessAllowed ? 'block' : 'none';\n",
              "\n",
              "        async function convertToInteractive(key) {\n",
              "          const element = document.querySelector('#df-61b49703-dd0c-4b1c-b021-2cf25dbf3289');\n",
              "          const dataTable =\n",
              "            await google.colab.kernel.invokeFunction('convertToInteractive',\n",
              "                                                     [key], {});\n",
              "          if (!dataTable) return;\n",
              "\n",
              "          const docLinkHtml = 'Like what you see? Visit the ' +\n",
              "            '<a target=\"_blank\" href=https://colab.research.google.com/notebooks/data_table.ipynb>data table notebook</a>'\n",
              "            + ' to learn more about interactive tables.';\n",
              "          element.innerHTML = '';\n",
              "          dataTable['output_type'] = 'display_data';\n",
              "          await google.colab.output.renderOutput(dataTable, element);\n",
              "          const docLink = document.createElement('div');\n",
              "          docLink.innerHTML = docLinkHtml;\n",
              "          element.appendChild(docLink);\n",
              "        }\n",
              "      </script>\n",
              "    </div>\n",
              "  </div>\n",
              "  "
            ]
          },
          "metadata": {},
          "execution_count": 890
        }
      ]
    },
    {
      "cell_type": "code",
      "source": [
        "df.tail()"
      ],
      "metadata": {
        "colab": {
          "base_uri": "https://localhost:8080/",
          "height": 206
        },
        "id": "h4lChqhcu3g8",
        "outputId": "431778b7-e3b0-4e1d-b631-b3fb9379661e"
      },
      "execution_count": 891,
      "outputs": [
        {
          "output_type": "execute_result",
          "data": {
            "text/plain": [
              "        userid  version  sum_gamerounds  retention_1  retention_7\n",
              "90184  9999441  gate_40              97         True        False\n",
              "90185  9999479  gate_40              30        False        False\n",
              "90186  9999710  gate_30              28         True        False\n",
              "90187  9999768  gate_40              51         True        False\n",
              "90188  9999861  gate_40              16        False        False"
            ],
            "text/html": [
              "\n",
              "  <div id=\"df-a8894bdc-ef19-40eb-9e77-8e879028df3a\">\n",
              "    <div class=\"colab-df-container\">\n",
              "      <div>\n",
              "<style scoped>\n",
              "    .dataframe tbody tr th:only-of-type {\n",
              "        vertical-align: middle;\n",
              "    }\n",
              "\n",
              "    .dataframe tbody tr th {\n",
              "        vertical-align: top;\n",
              "    }\n",
              "\n",
              "    .dataframe thead th {\n",
              "        text-align: right;\n",
              "    }\n",
              "</style>\n",
              "<table border=\"1\" class=\"dataframe\">\n",
              "  <thead>\n",
              "    <tr style=\"text-align: right;\">\n",
              "      <th></th>\n",
              "      <th>userid</th>\n",
              "      <th>version</th>\n",
              "      <th>sum_gamerounds</th>\n",
              "      <th>retention_1</th>\n",
              "      <th>retention_7</th>\n",
              "    </tr>\n",
              "  </thead>\n",
              "  <tbody>\n",
              "    <tr>\n",
              "      <th>90184</th>\n",
              "      <td>9999441</td>\n",
              "      <td>gate_40</td>\n",
              "      <td>97</td>\n",
              "      <td>True</td>\n",
              "      <td>False</td>\n",
              "    </tr>\n",
              "    <tr>\n",
              "      <th>90185</th>\n",
              "      <td>9999479</td>\n",
              "      <td>gate_40</td>\n",
              "      <td>30</td>\n",
              "      <td>False</td>\n",
              "      <td>False</td>\n",
              "    </tr>\n",
              "    <tr>\n",
              "      <th>90186</th>\n",
              "      <td>9999710</td>\n",
              "      <td>gate_30</td>\n",
              "      <td>28</td>\n",
              "      <td>True</td>\n",
              "      <td>False</td>\n",
              "    </tr>\n",
              "    <tr>\n",
              "      <th>90187</th>\n",
              "      <td>9999768</td>\n",
              "      <td>gate_40</td>\n",
              "      <td>51</td>\n",
              "      <td>True</td>\n",
              "      <td>False</td>\n",
              "    </tr>\n",
              "    <tr>\n",
              "      <th>90188</th>\n",
              "      <td>9999861</td>\n",
              "      <td>gate_40</td>\n",
              "      <td>16</td>\n",
              "      <td>False</td>\n",
              "      <td>False</td>\n",
              "    </tr>\n",
              "  </tbody>\n",
              "</table>\n",
              "</div>\n",
              "      <button class=\"colab-df-convert\" onclick=\"convertToInteractive('df-a8894bdc-ef19-40eb-9e77-8e879028df3a')\"\n",
              "              title=\"Convert this dataframe to an interactive table.\"\n",
              "              style=\"display:none;\">\n",
              "        \n",
              "  <svg xmlns=\"http://www.w3.org/2000/svg\" height=\"24px\"viewBox=\"0 0 24 24\"\n",
              "       width=\"24px\">\n",
              "    <path d=\"M0 0h24v24H0V0z\" fill=\"none\"/>\n",
              "    <path d=\"M18.56 5.44l.94 2.06.94-2.06 2.06-.94-2.06-.94-.94-2.06-.94 2.06-2.06.94zm-11 1L8.5 8.5l.94-2.06 2.06-.94-2.06-.94L8.5 2.5l-.94 2.06-2.06.94zm10 10l.94 2.06.94-2.06 2.06-.94-2.06-.94-.94-2.06-.94 2.06-2.06.94z\"/><path d=\"M17.41 7.96l-1.37-1.37c-.4-.4-.92-.59-1.43-.59-.52 0-1.04.2-1.43.59L10.3 9.45l-7.72 7.72c-.78.78-.78 2.05 0 2.83L4 21.41c.39.39.9.59 1.41.59.51 0 1.02-.2 1.41-.59l7.78-7.78 2.81-2.81c.8-.78.8-2.07 0-2.86zM5.41 20L4 18.59l7.72-7.72 1.47 1.35L5.41 20z\"/>\n",
              "  </svg>\n",
              "      </button>\n",
              "      \n",
              "  <style>\n",
              "    .colab-df-container {\n",
              "      display:flex;\n",
              "      flex-wrap:wrap;\n",
              "      gap: 12px;\n",
              "    }\n",
              "\n",
              "    .colab-df-convert {\n",
              "      background-color: #E8F0FE;\n",
              "      border: none;\n",
              "      border-radius: 50%;\n",
              "      cursor: pointer;\n",
              "      display: none;\n",
              "      fill: #1967D2;\n",
              "      height: 32px;\n",
              "      padding: 0 0 0 0;\n",
              "      width: 32px;\n",
              "    }\n",
              "\n",
              "    .colab-df-convert:hover {\n",
              "      background-color: #E2EBFA;\n",
              "      box-shadow: 0px 1px 2px rgba(60, 64, 67, 0.3), 0px 1px 3px 1px rgba(60, 64, 67, 0.15);\n",
              "      fill: #174EA6;\n",
              "    }\n",
              "\n",
              "    [theme=dark] .colab-df-convert {\n",
              "      background-color: #3B4455;\n",
              "      fill: #D2E3FC;\n",
              "    }\n",
              "\n",
              "    [theme=dark] .colab-df-convert:hover {\n",
              "      background-color: #434B5C;\n",
              "      box-shadow: 0px 1px 3px 1px rgba(0, 0, 0, 0.15);\n",
              "      filter: drop-shadow(0px 1px 2px rgba(0, 0, 0, 0.3));\n",
              "      fill: #FFFFFF;\n",
              "    }\n",
              "  </style>\n",
              "\n",
              "      <script>\n",
              "        const buttonEl =\n",
              "          document.querySelector('#df-a8894bdc-ef19-40eb-9e77-8e879028df3a button.colab-df-convert');\n",
              "        buttonEl.style.display =\n",
              "          google.colab.kernel.accessAllowed ? 'block' : 'none';\n",
              "\n",
              "        async function convertToInteractive(key) {\n",
              "          const element = document.querySelector('#df-a8894bdc-ef19-40eb-9e77-8e879028df3a');\n",
              "          const dataTable =\n",
              "            await google.colab.kernel.invokeFunction('convertToInteractive',\n",
              "                                                     [key], {});\n",
              "          if (!dataTable) return;\n",
              "\n",
              "          const docLinkHtml = 'Like what you see? Visit the ' +\n",
              "            '<a target=\"_blank\" href=https://colab.research.google.com/notebooks/data_table.ipynb>data table notebook</a>'\n",
              "            + ' to learn more about interactive tables.';\n",
              "          element.innerHTML = '';\n",
              "          dataTable['output_type'] = 'display_data';\n",
              "          await google.colab.output.renderOutput(dataTable, element);\n",
              "          const docLink = document.createElement('div');\n",
              "          docLink.innerHTML = docLinkHtml;\n",
              "          element.appendChild(docLink);\n",
              "        }\n",
              "      </script>\n",
              "    </div>\n",
              "  </div>\n",
              "  "
            ]
          },
          "metadata": {},
          "execution_count": 891
        }
      ]
    },
    {
      "cell_type": "markdown",
      "source": [
        "# Základní popisné statistiky"
      ],
      "metadata": {
        "id": "_W0FfCuDuRcq"
      }
    },
    {
      "cell_type": "code",
      "source": [
        "df.sum_gamerounds.describe()"
      ],
      "metadata": {
        "colab": {
          "base_uri": "https://localhost:8080/"
        },
        "id": "qW0QFpPc1r8T",
        "outputId": "36c92d25-825c-42aa-c110-a2935ca48042"
      },
      "execution_count": 892,
      "outputs": [
        {
          "output_type": "execute_result",
          "data": {
            "text/plain": [
              "count    90189.000000\n",
              "mean        51.872457\n",
              "std        195.050858\n",
              "min          0.000000\n",
              "25%          5.000000\n",
              "50%         16.000000\n",
              "75%         51.000000\n",
              "max      49854.000000\n",
              "Name: sum_gamerounds, dtype: float64"
            ]
          },
          "metadata": {},
          "execution_count": 892
        }
      ]
    },
    {
      "cell_type": "markdown",
      "source": [
        "- data neobsahují nulové hodnoty (počet záznamů je shodný s počtem uživatelů)\n",
        "- 25% uživatelů z našeho datasetu odehrálo 5 her během 14 dnů.\n",
        "- 50% medián uživatelů z našeho datasetu odehrálo 16 her během 14 dnů.\n",
        "- 75% uživatelů z našeho datasetu odehrálo 51 her během 14 dnů.\n",
        "- minimální počet odehraných her je 0, takže uživatel pouze nainstaloval hru\n",
        "- maximální počet odehraných her je 49854 a tento počet her se výrazně vychyluje od ostatních odehraných her\n",
        "- směrodatná odchylka se výrazně liší od průměru, takže se v měření nachází odlehlá měření"
      ],
      "metadata": {
        "id": "mEYSeEb32DuE"
      }
    },
    {
      "cell_type": "markdown",
      "source": [
        "# Kontrola a čištění dat"
      ],
      "metadata": {
        "id": "vVgTIYQHvuFo"
      }
    },
    {
      "cell_type": "code",
      "source": [
        "df.isnull().sum()"
      ],
      "metadata": {
        "colab": {
          "base_uri": "https://localhost:8080/"
        },
        "id": "IN4vxv9Bvb1v",
        "outputId": "73e5a080-d20b-4d9d-cfa8-671822b5cf76"
      },
      "execution_count": 893,
      "outputs": [
        {
          "output_type": "execute_result",
          "data": {
            "text/plain": [
              "userid            0\n",
              "version           0\n",
              "sum_gamerounds    0\n",
              "retention_1       0\n",
              "retention_7       0\n",
              "dtype: int64"
            ]
          },
          "metadata": {},
          "execution_count": 893
        }
      ]
    },
    {
      "cell_type": "markdown",
      "source": [
        "V datech se nenachází Null hodnoty"
      ],
      "metadata": {
        "id": "lLHiRuT88868"
      }
    },
    {
      "cell_type": "code",
      "source": [
        "# check unique user id\n",
        "df.userid.nunique()"
      ],
      "metadata": {
        "colab": {
          "base_uri": "https://localhost:8080/"
        },
        "id": "qP3ruCQuwF3a",
        "outputId": "176f2987-e366-4633-e2a9-180afc34e438"
      },
      "execution_count": 894,
      "outputs": [
        {
          "output_type": "execute_result",
          "data": {
            "text/plain": [
              "90189"
            ]
          },
          "metadata": {},
          "execution_count": 894
        }
      ]
    },
    {
      "cell_type": "markdown",
      "source": [
        "User ID je vždy unikátní."
      ],
      "metadata": {
        "id": "P1Y1F62B9Mwc"
      }
    },
    {
      "cell_type": "code",
      "source": [
        "df.version.nunique()"
      ],
      "metadata": {
        "colab": {
          "base_uri": "https://localhost:8080/"
        },
        "id": "TCF2X-ss5MRG",
        "outputId": "130320ac-09a0-4c32-e4e6-e6070d4c4b1f"
      },
      "execution_count": 895,
      "outputs": [
        {
          "output_type": "execute_result",
          "data": {
            "text/plain": [
              "2"
            ]
          },
          "metadata": {},
          "execution_count": 895
        }
      ]
    },
    {
      "cell_type": "code",
      "source": [
        "df.version.value_counts()"
      ],
      "metadata": {
        "colab": {
          "base_uri": "https://localhost:8080/"
        },
        "id": "Hxlo16vD5RqA",
        "outputId": "6898cd9c-3f34-484c-9092-fc1ba69a92f8"
      },
      "execution_count": 896,
      "outputs": [
        {
          "output_type": "execute_result",
          "data": {
            "text/plain": [
              "gate_40    45489\n",
              "gate_30    44700\n",
              "Name: version, dtype: int64"
            ]
          },
          "metadata": {},
          "execution_count": 896
        }
      ]
    },
    {
      "cell_type": "markdown",
      "source": [
        "V datasetu se nachází pouze dvě verze módů, což odpovídá A/B testování a Gate 40 má více záznamů než Gate 30.\n"
      ],
      "metadata": {
        "id": "2mrXz7Mb5fIj"
      }
    },
    {
      "cell_type": "code",
      "source": [
        "df.boxplot(column=\"sum_gamerounds\", by=\"version\", figsize=(5, 8));"
      ],
      "metadata": {
        "colab": {
          "base_uri": "https://localhost:8080/",
          "height": 596
        },
        "id": "tKAqkAjNOQoa",
        "outputId": "096ac9cd-18f1-491a-ac6a-bf70bcbbdf64"
      },
      "execution_count": 897,
      "outputs": [
        {
          "output_type": "stream",
          "name": "stderr",
          "text": [
            "/usr/local/lib/python3.7/dist-packages/matplotlib/cbook/__init__.py:1376: VisibleDeprecationWarning: Creating an ndarray from ragged nested sequences (which is a list-or-tuple of lists-or-tuples-or ndarrays with different lengths or shapes) is deprecated. If you meant to do this, you must specify 'dtype=object' when creating the ndarray.\n",
            "  X = np.atleast_1d(X.T if isinstance(X, np.ndarray) else np.asarray(X))\n"
          ]
        },
        {
          "output_type": "display_data",
          "data": {
            "text/plain": [
              "<Figure size 360x576 with 1 Axes>"
            ],
            "image/png": "[encoded data removed]"
          },
          "metadata": {
            "needs_background": "light"
          }
        }
      ]
    },
    {
      "cell_type": "markdown",
      "source": [
        "Z krabicového grafu jsme nalezli výskyt odlehlých měření, které je potřeba vyfiltrovat."
      ],
      "metadata": {
        "id": "jmioymgy9-8a"
      }
    },
    {
      "cell_type": "code",
      "source": [
        "# rozdělení dat podle A/B testu\n",
        "data_gate30 = df[df.version == \"gate_30\"].sum_gamerounds\n",
        "data_gate40 = df[df.version == \"gate_40\"].sum_gamerounds"
      ],
      "metadata": {
        "id": "dRzjekVASwka"
      },
      "execution_count": 898,
      "outputs": []
    },
    {
      "cell_type": "code",
      "source": [
        "# Metoda IQR - interquartal range \n",
        "# Gate 30\n",
        "Q1_a = data_gate30.quantile(0.25)\n",
        "Q3_a = data_gate30.quantile(0.75)\n",
        "IQR_a = Q3_a - Q1_a\n",
        "dolni_hranice_a = Q1_a - 1.5 * IQR_a\n",
        "horni_hranice_a = Q3_a + 1.5 * IQR_a\n",
        "\n",
        "# Gate 40\n",
        "Q1_b = data_gate40.quantile(0.25)\n",
        "Q3_b = data_gate40.quantile(0.75)\n",
        "IQR_b = Q3_b - Q1_b\n",
        "dolni_hranice_b = Q1_b - 1.5 * IQR_b\n",
        "horni_hranice_b = Q3_b + 1.5 * IQR_b\n",
        "\n",
        "# Zobrazení\n",
        "print(\"Dolní hranice pro Gate 30: \", dolni_hranice_a)\n",
        "print(\"Horní hranice pro Gate 30: \", horni_hranice_a)\n",
        "print('')\n",
        "print(\"Dolní hranice pro Gate 40: \", dolni_hranice_b)\n",
        "print(\"Horní hranice pro Gate 40: \", horni_hranice_b)"
      ],
      "metadata": {
        "colab": {
          "base_uri": "https://localhost:8080/"
        },
        "id": "3_7kyegoRSWa",
        "outputId": "683b0064-a5fe-4d4b-d697-481066b2f820"
      },
      "execution_count": 899,
      "outputs": [
        {
          "output_type": "stream",
          "name": "stdout",
          "text": [
            "Dolní hranice pro Gate 30:  -62.5\n",
            "Horní hranice pro Gate 30:  117.5\n",
            "\n",
            "Dolní hranice pro Gate 40:  -65.5\n",
            "Horní hranice pro Gate 40:  122.5\n"
          ]
        }
      ]
    },
    {
      "cell_type": "code",
      "source": [
        "# kopie datasetu pro analýzu\n",
        "df1 = df.copy()"
      ],
      "metadata": {
        "id": "a4Hwu1iTkXxa"
      },
      "execution_count": 900,
      "outputs": []
    },
    {
      "cell_type": "code",
      "source": [
        "# odstranění záznamů nad horní hranicí rozsahu\n",
        "df1.drop(df1[(df1[\"version\"] == \"gate_30\") & (df1['sum_gamerounds'] > horni_hranice_a)].index, inplace=True)\n",
        "df1.drop(df1[(df1[\"version\"] == \"gate_40\") & (df1['sum_gamerounds'] > horni_hranice_b)].index, inplace=True)"
      ],
      "metadata": {
        "id": "f8YiHedNlANP"
      },
      "execution_count": 901,
      "outputs": []
    },
    {
      "cell_type": "markdown",
      "source": [
        "Pro přesnější výsledek hypotézy jsem vyfiltroval pro každou bránu hodnoty vypočítané z interkvartálního rozsahu a pouze hodnoty větší než je horní hranice."
      ],
      "metadata": {
        "id": "GlSe9J0mmxVM"
      }
    },
    {
      "cell_type": "code",
      "source": [
        "df1.boxplot(column=\"sum_gamerounds\", by=\"version\", figsize=(5, 8));"
      ],
      "metadata": {
        "id": "q5uNvSWVnLfv",
        "outputId": "079fc578-f05f-4969-9742-8f8209ee6fb5",
        "colab": {
          "base_uri": "https://localhost:8080/",
          "height": 596
        }
      },
      "execution_count": 902,
      "outputs": [
        {
          "output_type": "stream",
          "name": "stderr",
          "text": [
            "/usr/local/lib/python3.7/dist-packages/matplotlib/cbook/__init__.py:1376: VisibleDeprecationWarning: Creating an ndarray from ragged nested sequences (which is a list-or-tuple of lists-or-tuples-or ndarrays with different lengths or shapes) is deprecated. If you meant to do this, you must specify 'dtype=object' when creating the ndarray.\n",
            "  X = np.atleast_1d(X.T if isinstance(X, np.ndarray) else np.asarray(X))\n"
          ]
        },
        {
          "output_type": "display_data",
          "data": {
            "text/plain": [
              "<Figure size 360x576 with 1 Axes>"
            ],
            "image/png": "[encoded data removed]"
          },
          "metadata": {
            "needs_background": "light"
          }
        }
      ]
    },
    {
      "cell_type": "code",
      "source": [
        "df1.version.value_counts()"
      ],
      "metadata": {
        "id": "HoZCwg_Gnkjw",
        "outputId": "42ddf2e0-0e60-421c-ebf7-93a082f41ae7",
        "colab": {
          "base_uri": "https://localhost:8080/"
        }
      },
      "execution_count": 903,
      "outputs": [
        {
          "output_type": "execute_result",
          "data": {
            "text/plain": [
              "gate_40    40471\n",
              "gate_30    39493\n",
              "Name: version, dtype: int64"
            ]
          },
          "metadata": {},
          "execution_count": 903
        }
      ]
    },
    {
      "cell_type": "markdown",
      "source": [
        "Vyfiltrovaný dataset nyní obsahuje **79 964** měření.  \n",
        "**pro gate_30**: 39 493 záznamů  \n",
        "**pro gate_40**: 40 471 záznamů  "
      ],
      "metadata": {
        "id": "GMgMevQ4nrl6"
      }
    },
    {
      "cell_type": "markdown",
      "source": [
        "Dataset je vyfiltrovaný a považuji ho za připravený k analýze A/B testu."
      ],
      "metadata": {
        "id": "LP6ZVT6soWcQ"
      }
    },
    {
      "cell_type": "code",
      "source": [
        "df1.sum_gamerounds.describe()"
      ],
      "metadata": {
        "colab": {
          "base_uri": "https://localhost:8080/"
        },
        "id": "47x_LFPS61Yr",
        "outputId": "f29948be-99f8-4306-80de-a49ae707e3f2"
      },
      "execution_count": 904,
      "outputs": [
        {
          "output_type": "execute_result",
          "data": {
            "text/plain": [
              "count    79964.000000\n",
              "mean        23.925229\n",
              "std         27.401625\n",
              "min          0.000000\n",
              "25%          4.000000\n",
              "50%         13.000000\n",
              "75%         34.000000\n",
              "max        122.000000\n",
              "Name: sum_gamerounds, dtype: float64"
            ]
          },
          "metadata": {},
          "execution_count": 904
        }
      ]
    },
    {
      "cell_type": "code",
      "source": [
        "# postupný (kumulativní) součet počtu kol\n",
        "ax = df1[\"sum_gamerounds\"].plot.hist(\n",
        "    bins=30, figsize=(12, 6), cumulative=True, density=True, grid=True\n",
        ")\n",
        "ax.set_yticks(np.arange(0, 1.1, 0.25))\n",
        "ax.axvline(df1[\"sum_gamerounds\"].mean(), color=\"k\")\n",
        "ax.axvline(df1[\"sum_gamerounds\"].median(), color=\"r\")\n",
        "ax.axvline(df1[\"sum_gamerounds\"].quantile(0.25), color=\"r\", ls=\"--\")\n",
        "ax.axvline(df1[\"sum_gamerounds\"].quantile(0.75), color=\"r\", ls=\"--\");"
      ],
      "metadata": {
        "colab": {
          "base_uri": "https://localhost:8080/",
          "height": 374
        },
        "id": "7axwr_wU7gN0",
        "outputId": "d5a5646f-c9d8-4d1e-e0a2-537abc66b8c1"
      },
      "execution_count": 905,
      "outputs": [
        {
          "output_type": "display_data",
          "data": {
            "text/plain": [
              "<Figure size 864x432 with 1 Axes>"
            ],
            "image/png": "[encoded data removed]"
          },
          "metadata": {
            "needs_background": "light"
          }
        }
      ]
    },
    {
      "cell_type": "markdown",
      "source": [
        "Graf nám říká, jaká je pravděpodobnost (hodnota na vertikální ose), že počet herních kol bude menší než daná hodnota (na horizontální ose)."
      ],
      "metadata": {
        "id": "MI0oaA8z8r85"
      }
    },
    {
      "cell_type": "markdown",
      "source": [
        "# Průzkum dat"
      ],
      "metadata": {
        "id": "stwBFQlao305"
      }
    },
    {
      "cell_type": "markdown",
      "source": [
        "V této částu si statisticky vyhodnotím a zodpovím základní otázky, které mi umožní porozumět chování hráčů. Pro přehlednost si dataframe rozdělím na dva dataframy podle skupin verzí."
      ],
      "metadata": {
        "id": "T7N-P9_aPQDr"
      }
    },
    {
      "cell_type": "code",
      "source": [
        "# proměnné dataframu rozdělený podle skupin\n",
        "df_30 = df1[df1[\"version\"] == \"gate_30\"]\n",
        "df_40 = df1[df1[\"version\"] == \"gate_40\"]"
      ],
      "metadata": {
        "id": "bXU_N-E6sQea"
      },
      "execution_count": 906,
      "outputs": []
    },
    {
      "cell_type": "markdown",
      "source": [
        "## Počet hráčů, kteří hru pouze nainstalovali, ale nikdy ji nehráli"
      ],
      "metadata": {
        "id": "QlO89wGZAA75"
      }
    },
    {
      "cell_type": "code",
      "source": [
        "inactive_users = df1[df1[\"sum_gamerounds\"] == 0].userid.count()"
      ],
      "metadata": {
        "id": "E-v9EhS2Qsk0"
      },
      "execution_count": 907,
      "outputs": []
    },
    {
      "cell_type": "code",
      "source": [
        "inactive_percent = round((inactive_users / df.userid.count()) * 100, 2)"
      ],
      "metadata": {
        "id": "ya6Dmg9FQexb"
      },
      "execution_count": 908,
      "outputs": []
    },
    {
      "cell_type": "code",
      "source": [
        "print(f\"Počet hráčů. kteří nikdy hru nehráli je: {inactive_users}, což je {inactive_percent}% ze všech hráčů\")"
      ],
      "metadata": {
        "id": "hKqMvjHgAGaF",
        "outputId": "cc90ece4-8cf4-41b9-8949-64dfc236d1d2",
        "colab": {
          "base_uri": "https://localhost:8080/"
        }
      },
      "execution_count": 909,
      "outputs": [
        {
          "output_type": "stream",
          "name": "stdout",
          "text": [
            "Počet hráčů. kteří nikdy hru nehráli je: 3994, což je 4.43% ze všech hráčů\n"
          ]
        }
      ]
    },
    {
      "cell_type": "markdown",
      "source": [
        "## Kolik průměrně procent hráčů se vrátilo po 1 dni a 7 dnech?"
      ],
      "metadata": {
        "id": "fM9dqB-Z8ReX"
      }
    },
    {
      "cell_type": "markdown",
      "source": [
        "### Retention 1"
      ],
      "metadata": {
        "id": "dXkq8mJVSsdt"
      }
    },
    {
      "cell_type": "code",
      "source": [
        "df_30.retention_1.value_counts(normalize=True)"
      ],
      "metadata": {
        "id": "qO73sNqpThd7",
        "outputId": "4f412a60-a863-4b86-8061-a13033017959",
        "colab": {
          "base_uri": "https://localhost:8080/"
        }
      },
      "execution_count": 910,
      "outputs": [
        {
          "output_type": "execute_result",
          "data": {
            "text/plain": [
              "False    0.612564\n",
              "True     0.387436\n",
              "Name: retention_1, dtype: float64"
            ]
          },
          "metadata": {},
          "execution_count": 910
        }
      ]
    },
    {
      "cell_type": "code",
      "source": [
        "df_40.retention_1.value_counts(normalize=True)"
      ],
      "metadata": {
        "id": "sJ6puMpYTq7X",
        "outputId": "7a172c94-1709-4e53-a753-4b9a5c1b40a3",
        "colab": {
          "base_uri": "https://localhost:8080/"
        }
      },
      "execution_count": 911,
      "outputs": [
        {
          "output_type": "execute_result",
          "data": {
            "text/plain": [
              "False    0.615577\n",
              "True     0.384423\n",
              "Name: retention_1, dtype: float64"
            ]
          },
          "metadata": {},
          "execution_count": 911
        }
      ]
    },
    {
      "cell_type": "markdown",
      "source": [
        "**Gate 30**:  Pouze 38,74% hráčů se vrací do hry po 1 dni.  \n",
        "**Gate 40**: Pouze 38,44% hráčů se vrací do hry po 1 dni.  "
      ],
      "metadata": {
        "id": "QyC3-ln2T8kV"
      }
    },
    {
      "cell_type": "markdown",
      "source": [
        "v obou skupinách odchází ze hry nad 60% hráčů po 1 dni, což je velmi výrazné a nežádoucí. Je potřeba se zkusit s vývojáři a marketingovým oddělením zamyslet nad tím, jakým způsobem hráče zaujmout při prvním spuštění hry a na těchto změnách zkusit provést další A/B testování."
      ],
      "metadata": {
        "id": "PRMknGM_dPPT"
      }
    },
    {
      "cell_type": "markdown",
      "source": [
        "### Retention 7"
      ],
      "metadata": {
        "id": "ofWnVxGQSyqs"
      }
    },
    {
      "cell_type": "code",
      "source": [
        "df_30.retention_7.value_counts(normalize=True)"
      ],
      "metadata": {
        "id": "xMh-YpVFTu8i",
        "outputId": "5e91302b-ed13-4f9f-de0b-0c81f98740e2",
        "colab": {
          "base_uri": "https://localhost:8080/"
        }
      },
      "execution_count": 912,
      "outputs": [
        {
          "output_type": "execute_result",
          "data": {
            "text/plain": [
              "False    0.883473\n",
              "True     0.116527\n",
              "Name: retention_7, dtype: float64"
            ]
          },
          "metadata": {},
          "execution_count": 912
        }
      ]
    },
    {
      "cell_type": "code",
      "source": [
        "df_40.retention_7.value_counts(normalize=True)"
      ],
      "metadata": {
        "id": "qNqdIHtnTsbr",
        "outputId": "f6b7f8bf-97b0-4c2c-b9ed-1887efdef237",
        "colab": {
          "base_uri": "https://localhost:8080/"
        }
      },
      "execution_count": 913,
      "outputs": [
        {
          "output_type": "execute_result",
          "data": {
            "text/plain": [
              "False    0.889155\n",
              "True     0.110845\n",
              "Name: retention_7, dtype: float64"
            ]
          },
          "metadata": {},
          "execution_count": 913
        }
      ]
    },
    {
      "cell_type": "markdown",
      "source": [
        "**Gate 30**:  Pouze 11,65% hráčů se vrací do hry po 7 dnech.  \n",
        "**Gate 40**: Pouze 11,08% hráčů se vrací do hry po 7 dnech.  "
      ],
      "metadata": {
        "id": "zV8hJgMmUFXb"
      }
    },
    {
      "cell_type": "markdown",
      "source": [
        "Z průměru počtu hráčů podle skupin, kteří se vrací do hry lze vidět minimální rozdíl přibližně kolem **0,5% poklesu pro Gate_40** v obou retenčních případech.  \n",
        "\n",
        "Tato změna je malá, ale dává nám první informaci o poklesu počtu hráčů při nastavení Gate 40. Tato malá změna může být mnohem výraznější při větším množství sesbíraných dat. Proto je potřeba zvolit vhodnou metodu, kterou ověřím pokles hodnot při Gate 40. Pro testování hypotéz budu používat metodu **Bootstraping** a **Chí-kvadrát test**."
      ],
      "metadata": {
        "id": "U-zN5Evs_eUQ"
      }
    },
    {
      "cell_type": "markdown",
      "source": [
        "## Jak se hráči chovají s přibývajícím počtem her?"
      ],
      "metadata": {
        "id": "-4miOr-A_7Nr"
      }
    },
    {
      "cell_type": "code",
      "source": [
        "fig, ax = plt.subplots(figsize=(15,7))\n",
        "ax = df1.groupby(['sum_gamerounds', \"version\"]).count()['userid'].unstack().plot(ax=ax)\n",
        "ax.set_xlabel(\"Počet odehraných kol\")\n",
        "ax.set_ylabel(\"Počet hráčů\")\n",
        "ax.set_title(\"Počet hráčů podle hracích kol\")\n",
        "ax.grid()\n",
        "plt.show();"
      ],
      "metadata": {
        "colab": {
          "base_uri": "https://localhost:8080/",
          "height": 460
        },
        "id": "JDC-I88D4bqk",
        "outputId": "dbeedda4-59ff-4561-cb84-d0f505298d73"
      },
      "execution_count": 914,
      "outputs": [
        {
          "output_type": "display_data",
          "data": {
            "text/plain": [
              "<Figure size 1080x504 with 1 Axes>"
            ],
            "image/png": "[encoded data removed]"
          },
          "metadata": {
            "needs_background": "light"
          }
        }
      ]
    },
    {
      "cell_type": "markdown",
      "source": [
        "Z grafu lze vidět, že většina hráčů odehraje pouze prvních pár kol. Zde je vidět, že naprostá většina hráčů neodehraje ani 20 kol hry. Zde je potřeba zjistit jestli odcházení hráčů není způsobeno dosažením platební brány nebo obtížností hry a vyvodit závěry jak udržet hráče déle ve hře. Chování obou testovaných skupin je velice podobné."
      ],
      "metadata": {
        "id": "eWOoaeVWBU3U"
      }
    },
    {
      "cell_type": "markdown",
      "source": [
        "Ze zajímavosti si zobrazíme ještě distribuci podle rozsahu odehraných kol pro obě skupiny. Budeme sledovat, v kterém rozmezí kol se nachází výrazné změny."
      ],
      "metadata": {
        "id": "nGxOHxJ693g1"
      }
    },
    {
      "cell_type": "code",
      "source": [
        "bins = [0,1,10,20,30,40,50,60,70,80,90,100,200]\n",
        "plot_30 = df_30.groupby(pd.cut(df_30[\"sum_gamerounds\"], bins=bins)).userid.count()\n",
        "plot_40 = df_40.groupby(pd.cut(df_40[\"sum_gamerounds\"], bins=bins)).userid.count()"
      ],
      "metadata": {
        "id": "fB23eBqB-hbg"
      },
      "execution_count": 915,
      "outputs": []
    },
    {
      "cell_type": "code",
      "source": [
        "# Plotting the distribution of players that played 0 to 100 game rounds\n",
        "fig, ax = plt.subplots(figsize=(15,7))\n",
        "ax = plot_30.plot(kind = 'bar', y=\"userid\", color = \"red\", alpha = 1, \n",
        "                       title = 'Celkový počet hráčů podle odehraných kol a skupin')\n",
        "plot_40.plot(kind = 'bar', y=\"userid\", ax=ax, color = \"green\", alpha = 0.7 )\n",
        "ax.set_xlabel(\"Počet hráčů podle odehraných kol\")\n",
        "ax.set_ylabel(\"Počet hráčů\")\n",
        "ax.grid()\n",
        "plt.legend([\"Group 30\", \"Group 40\"]);"
      ],
      "metadata": {
        "colab": {
          "base_uri": "https://localhost:8080/",
          "height": 502
        },
        "id": "iGjFttla-chd",
        "outputId": "3a286cbb-e93c-4944-bd71-9efdee5a2d76"
      },
      "execution_count": 938,
      "outputs": [
        {
          "output_type": "display_data",
          "data": {
            "text/plain": [
              "<Figure size 1080x504 with 1 Axes>"
            ],
            "image/png": "[encoded data removed]"
          },
          "metadata": {
            "needs_background": "light"
          }
        }
      ]
    },
    {
      "cell_type": "markdown",
      "source": [
        "Rozdíly mezi skupinami jsou minimální a největší změny nastávají behem **1 až 10** kola a také **30 až 40 kola**. Kolem 30 až 40 kola by mohly změny nastávat otevřením platební brány."
      ],
      "metadata": {
        "id": "HCauEqjyAqrC"
      }
    },
    {
      "cell_type": "markdown",
      "source": [
        "## Jaký je průměrný počet odehraných kol hry každé skupiny?"
      ],
      "metadata": {
        "id": "Pco0pQ9BKMEP"
      }
    },
    {
      "cell_type": "markdown",
      "source": [
        "Zde mě budou zajímat pouze aktivní hráči a z toho důvodu vyfiltruji hráče, kteří neodehráli žádné kolo."
      ],
      "metadata": {
        "id": "yyzmBGZlK_Aa"
      }
    },
    {
      "cell_type": "code",
      "source": [
        "df_30[df_30.sum_gamerounds > 0].sum_gamerounds.describe()"
      ],
      "metadata": {
        "id": "iBQQzQY_LNxG",
        "outputId": "856a1e0e-3664-4b56-d1d8-8548ba7ee516",
        "colab": {
          "base_uri": "https://localhost:8080/"
        }
      },
      "execution_count": 917,
      "outputs": [
        {
          "output_type": "execute_result",
          "data": {
            "text/plain": [
              "count    37556.000000\n",
              "mean        24.813558\n",
              "std         26.701846\n",
              "min          1.000000\n",
              "25%          5.000000\n",
              "50%         14.000000\n",
              "75%         36.000000\n",
              "max        117.000000\n",
              "Name: sum_gamerounds, dtype: float64"
            ]
          },
          "metadata": {},
          "execution_count": 917
        }
      ]
    },
    {
      "cell_type": "code",
      "source": [
        "df_40[df_40.sum_gamerounds > 0].sum_gamerounds.describe()"
      ],
      "metadata": {
        "id": "RbwXg8kkKaSO",
        "outputId": "e58b8cb3-cb35-4694-aed6-5ddc5a336c98",
        "colab": {
          "base_uri": "https://localhost:8080/"
        }
      },
      "execution_count": 918,
      "outputs": [
        {
          "output_type": "execute_result",
          "data": {
            "text/plain": [
              "count    38414.000000\n",
              "mean        25.544307\n",
              "std         28.338013\n",
              "min          1.000000\n",
              "25%          5.000000\n",
              "50%         14.000000\n",
              "75%         36.000000\n",
              "max        122.000000\n",
              "Name: sum_gamerounds, dtype: float64"
            ]
          },
          "metadata": {},
          "execution_count": 918
        }
      ]
    },
    {
      "cell_type": "markdown",
      "source": [
        "Průměrný počet odehraných kol se příliš neliší a hráči obou skupin průměrně odehrají **25 kol**."
      ],
      "metadata": {
        "id": "7rzWagBiLbUy"
      }
    },
    {
      "cell_type": "markdown",
      "source": [
        " # Testování Hypotéz"
      ],
      "metadata": {
        "id": "hEdjBGGLicT1"
      }
    },
    {
      "cell_type": "markdown",
      "source": [
        " ## Test chí-kvadrát\n",
        " Pro tento test si určíme dvě hypotézy:  \n",
        " - **Nulová hypotéza**: retence je stejná pro obě skupiny\n",
        " - **Alternativní hypotéza**: hráči ze skupiny Gate 30 mají vyšší udržení ve hře"
      ],
      "metadata": {
        "id": "pxmxm1Zlikyq"
      }
    },
    {
      "cell_type": "code",
      "source": [
        "contigency_retention_1 = pd.crosstab(df1['version'], df1['retention_1'], normalize=\"index\") "
      ],
      "metadata": {
        "id": "ptgzaO4Rm8ot"
      },
      "execution_count": 919,
      "outputs": []
    },
    {
      "cell_type": "code",
      "source": [
        "contigency_retention_7 = pd.crosstab(df1['version'], df1['retention_7'], normalize=\"index\") "
      ],
      "metadata": {
        "id": "GJ1FxbqfnLKO"
      },
      "execution_count": 920,
      "outputs": []
    },
    {
      "cell_type": "code",
      "source": [
        "contigency_retention_1"
      ],
      "metadata": {
        "colab": {
          "base_uri": "https://localhost:8080/",
          "height": 143
        },
        "id": "AQujZzIZqS0_",
        "outputId": "3248673f-030c-4880-ec12-55791e41dce6"
      },
      "execution_count": 921,
      "outputs": [
        {
          "output_type": "execute_result",
          "data": {
            "text/plain": [
              "retention_1     False      True\n",
              "version                        \n",
              "gate_30      0.612564  0.387436\n",
              "gate_40      0.615577  0.384423"
            ],
            "text/html": [
              "\n",
              "  <div id=\"df-d4ef15c0-e700-493f-bf28-ec58c322250f\">\n",
              "    <div class=\"colab-df-container\">\n",
              "      <div>\n",
              "<style scoped>\n",
              "    .dataframe tbody tr th:only-of-type {\n",
              "        vertical-align: middle;\n",
              "    }\n",
              "\n",
              "    .dataframe tbody tr th {\n",
              "        vertical-align: top;\n",
              "    }\n",
              "\n",
              "    .dataframe thead th {\n",
              "        text-align: right;\n",
              "    }\n",
              "</style>\n",
              "<table border=\"1\" class=\"dataframe\">\n",
              "  <thead>\n",
              "    <tr style=\"text-align: right;\">\n",
              "      <th>retention_1</th>\n",
              "      <th>False</th>\n",
              "      <th>True</th>\n",
              "    </tr>\n",
              "    <tr>\n",
              "      <th>version</th>\n",
              "      <th></th>\n",
              "      <th></th>\n",
              "    </tr>\n",
              "  </thead>\n",
              "  <tbody>\n",
              "    <tr>\n",
              "      <th>gate_30</th>\n",
              "      <td>0.612564</td>\n",
              "      <td>0.387436</td>\n",
              "    </tr>\n",
              "    <tr>\n",
              "      <th>gate_40</th>\n",
              "      <td>0.615577</td>\n",
              "      <td>0.384423</td>\n",
              "    </tr>\n",
              "  </tbody>\n",
              "</table>\n",
              "</div>\n",
              "      <button class=\"colab-df-convert\" onclick=\"convertToInteractive('df-d4ef15c0-e700-493f-bf28-ec58c322250f')\"\n",
              "              title=\"Convert this dataframe to an interactive table.\"\n",
              "              style=\"display:none;\">\n",
              "        \n",
              "  <svg xmlns=\"http://www.w3.org/2000/svg\" height=\"24px\"viewBox=\"0 0 24 24\"\n",
              "       width=\"24px\">\n",
              "    <path d=\"M0 0h24v24H0V0z\" fill=\"none\"/>\n",
              "    <path d=\"M18.56 5.44l.94 2.06.94-2.06 2.06-.94-2.06-.94-.94-2.06-.94 2.06-2.06.94zm-11 1L8.5 8.5l.94-2.06 2.06-.94-2.06-.94L8.5 2.5l-.94 2.06-2.06.94zm10 10l.94 2.06.94-2.06 2.06-.94-2.06-.94-.94-2.06-.94 2.06-2.06.94z\"/><path d=\"M17.41 7.96l-1.37-1.37c-.4-.4-.92-.59-1.43-.59-.52 0-1.04.2-1.43.59L10.3 9.45l-7.72 7.72c-.78.78-.78 2.05 0 2.83L4 21.41c.39.39.9.59 1.41.59.51 0 1.02-.2 1.41-.59l7.78-7.78 2.81-2.81c.8-.78.8-2.07 0-2.86zM5.41 20L4 18.59l7.72-7.72 1.47 1.35L5.41 20z\"/>\n",
              "  </svg>\n",
              "      </button>\n",
              "      \n",
              "  <style>\n",
              "    .colab-df-container {\n",
              "      display:flex;\n",
              "      flex-wrap:wrap;\n",
              "      gap: 12px;\n",
              "    }\n",
              "\n",
              "    .colab-df-convert {\n",
              "      background-color: #E8F0FE;\n",
              "      border: none;\n",
              "      border-radius: 50%;\n",
              "      cursor: pointer;\n",
              "      display: none;\n",
              "      fill: #1967D2;\n",
              "      height: 32px;\n",
              "      padding: 0 0 0 0;\n",
              "      width: 32px;\n",
              "    }\n",
              "\n",
              "    .colab-df-convert:hover {\n",
              "      background-color: #E2EBFA;\n",
              "      box-shadow: 0px 1px 2px rgba(60, 64, 67, 0.3), 0px 1px 3px 1px rgba(60, 64, 67, 0.15);\n",
              "      fill: #174EA6;\n",
              "    }\n",
              "\n",
              "    [theme=dark] .colab-df-convert {\n",
              "      background-color: #3B4455;\n",
              "      fill: #D2E3FC;\n",
              "    }\n",
              "\n",
              "    [theme=dark] .colab-df-convert:hover {\n",
              "      background-color: #434B5C;\n",
              "      box-shadow: 0px 1px 3px 1px rgba(0, 0, 0, 0.15);\n",
              "      filter: drop-shadow(0px 1px 2px rgba(0, 0, 0, 0.3));\n",
              "      fill: #FFFFFF;\n",
              "    }\n",
              "  </style>\n",
              "\n",
              "      <script>\n",
              "        const buttonEl =\n",
              "          document.querySelector('#df-d4ef15c0-e700-493f-bf28-ec58c322250f button.colab-df-convert');\n",
              "        buttonEl.style.display =\n",
              "          google.colab.kernel.accessAllowed ? 'block' : 'none';\n",
              "\n",
              "        async function convertToInteractive(key) {\n",
              "          const element = document.querySelector('#df-d4ef15c0-e700-493f-bf28-ec58c322250f');\n",
              "          const dataTable =\n",
              "            await google.colab.kernel.invokeFunction('convertToInteractive',\n",
              "                                                     [key], {});\n",
              "          if (!dataTable) return;\n",
              "\n",
              "          const docLinkHtml = 'Like what you see? Visit the ' +\n",
              "            '<a target=\"_blank\" href=https://colab.research.google.com/notebooks/data_table.ipynb>data table notebook</a>'\n",
              "            + ' to learn more about interactive tables.';\n",
              "          element.innerHTML = '';\n",
              "          dataTable['output_type'] = 'display_data';\n",
              "          await google.colab.output.renderOutput(dataTable, element);\n",
              "          const docLink = document.createElement('div');\n",
              "          docLink.innerHTML = docLinkHtml;\n",
              "          element.appendChild(docLink);\n",
              "        }\n",
              "      </script>\n",
              "    </div>\n",
              "  </div>\n",
              "  "
            ]
          },
          "metadata": {},
          "execution_count": 921
        }
      ]
    },
    {
      "cell_type": "code",
      "source": [
        "contigency_retention_7"
      ],
      "metadata": {
        "colab": {
          "base_uri": "https://localhost:8080/",
          "height": 143
        },
        "id": "DOPO_espqUvS",
        "outputId": "4b50f2e3-4ef3-46f9-cb51-1f0770b994f2"
      },
      "execution_count": 922,
      "outputs": [
        {
          "output_type": "execute_result",
          "data": {
            "text/plain": [
              "retention_7     False      True\n",
              "version                        \n",
              "gate_30      0.883473  0.116527\n",
              "gate_40      0.889155  0.110845"
            ],
            "text/html": [
              "\n",
              "  <div id=\"df-d9b71d61-e919-449b-9ea6-411869d3ea7a\">\n",
              "    <div class=\"colab-df-container\">\n",
              "      <div>\n",
              "<style scoped>\n",
              "    .dataframe tbody tr th:only-of-type {\n",
              "        vertical-align: middle;\n",
              "    }\n",
              "\n",
              "    .dataframe tbody tr th {\n",
              "        vertical-align: top;\n",
              "    }\n",
              "\n",
              "    .dataframe thead th {\n",
              "        text-align: right;\n",
              "    }\n",
              "</style>\n",
              "<table border=\"1\" class=\"dataframe\">\n",
              "  <thead>\n",
              "    <tr style=\"text-align: right;\">\n",
              "      <th>retention_7</th>\n",
              "      <th>False</th>\n",
              "      <th>True</th>\n",
              "    </tr>\n",
              "    <tr>\n",
              "      <th>version</th>\n",
              "      <th></th>\n",
              "      <th></th>\n",
              "    </tr>\n",
              "  </thead>\n",
              "  <tbody>\n",
              "    <tr>\n",
              "      <th>gate_30</th>\n",
              "      <td>0.883473</td>\n",
              "      <td>0.116527</td>\n",
              "    </tr>\n",
              "    <tr>\n",
              "      <th>gate_40</th>\n",
              "      <td>0.889155</td>\n",
              "      <td>0.110845</td>\n",
              "    </tr>\n",
              "  </tbody>\n",
              "</table>\n",
              "</div>\n",
              "      <button class=\"colab-df-convert\" onclick=\"convertToInteractive('df-d9b71d61-e919-449b-9ea6-411869d3ea7a')\"\n",
              "              title=\"Convert this dataframe to an interactive table.\"\n",
              "              style=\"display:none;\">\n",
              "        \n",
              "  <svg xmlns=\"http://www.w3.org/2000/svg\" height=\"24px\"viewBox=\"0 0 24 24\"\n",
              "       width=\"24px\">\n",
              "    <path d=\"M0 0h24v24H0V0z\" fill=\"none\"/>\n",
              "    <path d=\"M18.56 5.44l.94 2.06.94-2.06 2.06-.94-2.06-.94-.94-2.06-.94 2.06-2.06.94zm-11 1L8.5 8.5l.94-2.06 2.06-.94-2.06-.94L8.5 2.5l-.94 2.06-2.06.94zm10 10l.94 2.06.94-2.06 2.06-.94-2.06-.94-.94-2.06-.94 2.06-2.06.94z\"/><path d=\"M17.41 7.96l-1.37-1.37c-.4-.4-.92-.59-1.43-.59-.52 0-1.04.2-1.43.59L10.3 9.45l-7.72 7.72c-.78.78-.78 2.05 0 2.83L4 21.41c.39.39.9.59 1.41.59.51 0 1.02-.2 1.41-.59l7.78-7.78 2.81-2.81c.8-.78.8-2.07 0-2.86zM5.41 20L4 18.59l7.72-7.72 1.47 1.35L5.41 20z\"/>\n",
              "  </svg>\n",
              "      </button>\n",
              "      \n",
              "  <style>\n",
              "    .colab-df-container {\n",
              "      display:flex;\n",
              "      flex-wrap:wrap;\n",
              "      gap: 12px;\n",
              "    }\n",
              "\n",
              "    .colab-df-convert {\n",
              "      background-color: #E8F0FE;\n",
              "      border: none;\n",
              "      border-radius: 50%;\n",
              "      cursor: pointer;\n",
              "      display: none;\n",
              "      fill: #1967D2;\n",
              "      height: 32px;\n",
              "      padding: 0 0 0 0;\n",
              "      width: 32px;\n",
              "    }\n",
              "\n",
              "    .colab-df-convert:hover {\n",
              "      background-color: #E2EBFA;\n",
              "      box-shadow: 0px 1px 2px rgba(60, 64, 67, 0.3), 0px 1px 3px 1px rgba(60, 64, 67, 0.15);\n",
              "      fill: #174EA6;\n",
              "    }\n",
              "\n",
              "    [theme=dark] .colab-df-convert {\n",
              "      background-color: #3B4455;\n",
              "      fill: #D2E3FC;\n",
              "    }\n",
              "\n",
              "    [theme=dark] .colab-df-convert:hover {\n",
              "      background-color: #434B5C;\n",
              "      box-shadow: 0px 1px 3px 1px rgba(0, 0, 0, 0.15);\n",
              "      filter: drop-shadow(0px 1px 2px rgba(0, 0, 0, 0.3));\n",
              "      fill: #FFFFFF;\n",
              "    }\n",
              "  </style>\n",
              "\n",
              "      <script>\n",
              "        const buttonEl =\n",
              "          document.querySelector('#df-d9b71d61-e919-449b-9ea6-411869d3ea7a button.colab-df-convert');\n",
              "        buttonEl.style.display =\n",
              "          google.colab.kernel.accessAllowed ? 'block' : 'none';\n",
              "\n",
              "        async function convertToInteractive(key) {\n",
              "          const element = document.querySelector('#df-d9b71d61-e919-449b-9ea6-411869d3ea7a');\n",
              "          const dataTable =\n",
              "            await google.colab.kernel.invokeFunction('convertToInteractive',\n",
              "                                                     [key], {});\n",
              "          if (!dataTable) return;\n",
              "\n",
              "          const docLinkHtml = 'Like what you see? Visit the ' +\n",
              "            '<a target=\"_blank\" href=https://colab.research.google.com/notebooks/data_table.ipynb>data table notebook</a>'\n",
              "            + ' to learn more about interactive tables.';\n",
              "          element.innerHTML = '';\n",
              "          dataTable['output_type'] = 'display_data';\n",
              "          await google.colab.output.renderOutput(dataTable, element);\n",
              "          const docLink = document.createElement('div');\n",
              "          docLink.innerHTML = docLinkHtml;\n",
              "          element.appendChild(docLink);\n",
              "        }\n",
              "      </script>\n",
              "    </div>\n",
              "  </div>\n",
              "  "
            ]
          },
          "metadata": {},
          "execution_count": 922
        }
      ]
    },
    {
      "cell_type": "code",
      "source": [
        "plt.figure(figsize=(12,8)) \n",
        "sns.heatmap(contigency_retention_1, annot=True);"
      ],
      "metadata": {
        "colab": {
          "base_uri": "https://localhost:8080/",
          "height": 498
        },
        "id": "hHw_sghAoOr8",
        "outputId": "e45a6eb1-6938-428a-9ad0-00367b4b1c7b"
      },
      "execution_count": 923,
      "outputs": [
        {
          "output_type": "display_data",
          "data": {
            "text/plain": [
              "<Figure size 864x576 with 2 Axes>"
            ],
            "image/png": "[encoded data removed]"
          },
          "metadata": {
            "needs_background": "light"
          }
        }
      ]
    },
    {
      "cell_type": "code",
      "source": [
        "plt.figure(figsize=(12,8)) \n",
        "sns.heatmap(contigency_retention_7, annot=True);"
      ],
      "metadata": {
        "colab": {
          "base_uri": "https://localhost:8080/",
          "height": 498
        },
        "id": "xuy5hJEmoZx4",
        "outputId": "345cf111-0c1f-497f-cf94-526b7b449258"
      },
      "execution_count": 924,
      "outputs": [
        {
          "output_type": "display_data",
          "data": {
            "text/plain": [
              "<Figure size 864x576 with 2 Axes>"
            ],
            "image/png": "[encoded data removed]"
          },
          "metadata": {
            "needs_background": "light"
          }
        }
      ]
    },
    {
      "cell_type": "code",
      "source": [
        "alpha = 0.05"
      ],
      "metadata": {
        "id": "ArpXgDpSsqRu"
      },
      "execution_count": 925,
      "outputs": []
    },
    {
      "cell_type": "code",
      "source": [
        "# Chi-square test\n",
        "c1, p1, _, _ = chi2_contingency(contigency_retention_1) \n",
        "print(f'Test statistic: {c1}\\np-value: {round(p1 * 100,2)}%')"
      ],
      "metadata": {
        "colab": {
          "base_uri": "https://localhost:8080/"
        },
        "id": "Z2vCpZ9hpqGv",
        "outputId": "7f955972-e776-44a0-92aa-51c894b7ecb8"
      },
      "execution_count": 926,
      "outputs": [
        {
          "output_type": "stream",
          "name": "stdout",
          "text": [
            "Test statistic: 2.0971202340490707\n",
            "p-value: 14.76%\n"
          ]
        }
      ]
    },
    {
      "cell_type": "code",
      "source": [
        "# Chi-square test\n",
        "c2, p2, _, _ = chi2_contingency(contigency_retention_7) \n",
        "print(f'Test statistic: {c2}\\np-value: {round(p2 * 100,2)}%')"
      ],
      "metadata": {
        "colab": {
          "base_uri": "https://localhost:8080/"
        },
        "id": "H3I8tqO_pSNE",
        "outputId": "36acdac1-e4ac-4d3c-8ff8-f664353008a8"
      },
      "execution_count": 927,
      "outputs": [
        {
          "output_type": "stream",
          "name": "stdout",
          "text": [
            "Test statistic: 4.905985046255749\n",
            "p-value: 2.68%\n"
          ]
        }
      ]
    },
    {
      "cell_type": "code",
      "source": [
        "if p1 < alpha:\n",
        "    print(\"Pro retention_1 odmítáme nulovou hypotézu\")\n",
        "else:\n",
        "    print(\"Pro retention_1 příjímáme nulovou hypotézu\")"
      ],
      "metadata": {
        "colab": {
          "base_uri": "https://localhost:8080/"
        },
        "id": "FHJuPH2ptxY8",
        "outputId": "de293ae1-2a50-4366-bbff-c16e6e61fed8"
      },
      "execution_count": 928,
      "outputs": [
        {
          "output_type": "stream",
          "name": "stdout",
          "text": [
            "Pro retention_1 příjímáme nulovou hypotézu\n"
          ]
        }
      ]
    },
    {
      "cell_type": "code",
      "source": [
        "if p2 < alpha:\n",
        "    print(\"Pro retention_7 odmítáme nulovou hypotézu\")\n",
        "else:\n",
        "    print(\"Pro retention_7 příjímáme nulovou hypotézu\")"
      ],
      "metadata": {
        "colab": {
          "base_uri": "https://localhost:8080/"
        },
        "id": "dJQZDpMptKow",
        "outputId": "4f1ba799-e21f-45f2-e176-9d3aeef0f78a"
      },
      "execution_count": 929,
      "outputs": [
        {
          "output_type": "stream",
          "name": "stdout",
          "text": [
            "Pro retention_7 odmítáme nulovou hypotézu\n"
          ]
        }
      ]
    },
    {
      "cell_type": "markdown",
      "source": [
        "**Výsledek hypotéz:**"
      ],
      "metadata": {
        "id": "W-lb7-ILuE45"
      }
    },
    {
      "cell_type": "markdown",
      "source": [
        "**Retention 1**:  \n",
        "Podle našeho chí-kvadrát testu nebyl po **1 dni** mezi oběma skupinami výrazný rozdíl, který nebyl větší než 5% hladiny významnosti, takže předpokládáme že mezi skupinami není signifikantní rozdíl po 1 dni hraní.\n",
        "\n",
        "**Retention 7**:  \n",
        "U 7 denní retence se potvrzuje hypotéza, že mezi skupinami je signifikantní rozdíl větší než 5% hladiny významnosti a potvrzuje hypotézu, že Gate 30 má po 7 dnech vyšší udržitelnost hráčů ve hře. Toto zjištění si ještě ověříme metodou Bootstraping."
      ],
      "metadata": {
        "id": "g6wcwzy_vH-l"
      }
    },
    {
      "cell_type": "markdown",
      "source": [
        "## Bootstraping"
      ],
      "metadata": {
        "id": "tL7h98ek7g-Q"
      }
    },
    {
      "cell_type": "markdown",
      "source": [
        "- Z důvodu vyššího rozdílu u 7 denní retence si zjistíme pravděpodobnost udržení hráčů pomocí Bootstrap metody. Tento rozdíl je způsobený tím, že hráči při 1 denní retenci neměli dostatek času se dostat k bránám.   \n",
        "- Pro 7 denní retenci provedeme opakované vzorkování našeho datasetu a vypočítáme 7 denní retenci pro tyto vzorky a zjistíme přesnější rozdíl mezi oběma skupinami.\n",
        "- iterace omezíme pouze na 700 replikací, ale zde by bylo vhodné replikovat záznamy v řádech desítek tisíc a tím zvýšit pravděpodobnost."
      ],
      "metadata": {
        "id": "kcDjFEjgBR3-"
      }
    },
    {
      "cell_type": "code",
      "source": [
        "boot_retention7 = []\n",
        "iterations = 700\n",
        "for i in range(iterations):\n",
        "    boot_mean = df1.sample(frac=1, replace=True).groupby(by='version')['retention_7'].mean()\n",
        "    boot_retention7.append(boot_mean)\n",
        "    \n",
        "boot_retention7 = pd.DataFrame(boot_retention7)"
      ],
      "metadata": {
        "id": "uqVEN7dH-2PG"
      },
      "execution_count": 930,
      "outputs": []
    },
    {
      "cell_type": "code",
      "source": [
        "# Vytvoříme dataframe přidaných vzorků\n",
        "boot_retention7 = pd.DataFrame(boot_retention7)"
      ],
      "metadata": {
        "id": "OzuaUm5cByfU"
      },
      "execution_count": 931,
      "outputs": []
    },
    {
      "cell_type": "code",
      "source": [
        "boot_retention7.head()"
      ],
      "metadata": {
        "colab": {
          "base_uri": "https://localhost:8080/",
          "height": 206
        },
        "id": "WkKnmBVHBqwO",
        "outputId": "d22acb5d-a4e4-493d-a47f-294af2622203"
      },
      "execution_count": 932,
      "outputs": [
        {
          "output_type": "execute_result",
          "data": {
            "text/plain": [
              "version       gate_30   gate_40\n",
              "retention_7  0.113979  0.110883\n",
              "retention_7  0.116929  0.113508\n",
              "retention_7  0.114947  0.112541\n",
              "retention_7  0.116254  0.111279\n",
              "retention_7  0.115039  0.112727"
            ],
            "text/html": [
              "\n",
              "  <div id=\"df-7ddec668-1cad-4d65-b4d6-496d2787429a\">\n",
              "    <div class=\"colab-df-container\">\n",
              "      <div>\n",
              "<style scoped>\n",
              "    .dataframe tbody tr th:only-of-type {\n",
              "        vertical-align: middle;\n",
              "    }\n",
              "\n",
              "    .dataframe tbody tr th {\n",
              "        vertical-align: top;\n",
              "    }\n",
              "\n",
              "    .dataframe thead th {\n",
              "        text-align: right;\n",
              "    }\n",
              "</style>\n",
              "<table border=\"1\" class=\"dataframe\">\n",
              "  <thead>\n",
              "    <tr style=\"text-align: right;\">\n",
              "      <th>version</th>\n",
              "      <th>gate_30</th>\n",
              "      <th>gate_40</th>\n",
              "    </tr>\n",
              "  </thead>\n",
              "  <tbody>\n",
              "    <tr>\n",
              "      <th>retention_7</th>\n",
              "      <td>0.113979</td>\n",
              "      <td>0.110883</td>\n",
              "    </tr>\n",
              "    <tr>\n",
              "      <th>retention_7</th>\n",
              "      <td>0.116929</td>\n",
              "      <td>0.113508</td>\n",
              "    </tr>\n",
              "    <tr>\n",
              "      <th>retention_7</th>\n",
              "      <td>0.114947</td>\n",
              "      <td>0.112541</td>\n",
              "    </tr>\n",
              "    <tr>\n",
              "      <th>retention_7</th>\n",
              "      <td>0.116254</td>\n",
              "      <td>0.111279</td>\n",
              "    </tr>\n",
              "    <tr>\n",
              "      <th>retention_7</th>\n",
              "      <td>0.115039</td>\n",
              "      <td>0.112727</td>\n",
              "    </tr>\n",
              "  </tbody>\n",
              "</table>\n",
              "</div>\n",
              "      <button class=\"colab-df-convert\" onclick=\"convertToInteractive('df-7ddec668-1cad-4d65-b4d6-496d2787429a')\"\n",
              "              title=\"Convert this dataframe to an interactive table.\"\n",
              "              style=\"display:none;\">\n",
              "        \n",
              "  <svg xmlns=\"http://www.w3.org/2000/svg\" height=\"24px\"viewBox=\"0 0 24 24\"\n",
              "       width=\"24px\">\n",
              "    <path d=\"M0 0h24v24H0V0z\" fill=\"none\"/>\n",
              "    <path d=\"M18.56 5.44l.94 2.06.94-2.06 2.06-.94-2.06-.94-.94-2.06-.94 2.06-2.06.94zm-11 1L8.5 8.5l.94-2.06 2.06-.94-2.06-.94L8.5 2.5l-.94 2.06-2.06.94zm10 10l.94 2.06.94-2.06 2.06-.94-2.06-.94-.94-2.06-.94 2.06-2.06.94z\"/><path d=\"M17.41 7.96l-1.37-1.37c-.4-.4-.92-.59-1.43-.59-.52 0-1.04.2-1.43.59L10.3 9.45l-7.72 7.72c-.78.78-.78 2.05 0 2.83L4 21.41c.39.39.9.59 1.41.59.51 0 1.02-.2 1.41-.59l7.78-7.78 2.81-2.81c.8-.78.8-2.07 0-2.86zM5.41 20L4 18.59l7.72-7.72 1.47 1.35L5.41 20z\"/>\n",
              "  </svg>\n",
              "      </button>\n",
              "      \n",
              "  <style>\n",
              "    .colab-df-container {\n",
              "      display:flex;\n",
              "      flex-wrap:wrap;\n",
              "      gap: 12px;\n",
              "    }\n",
              "\n",
              "    .colab-df-convert {\n",
              "      background-color: #E8F0FE;\n",
              "      border: none;\n",
              "      border-radius: 50%;\n",
              "      cursor: pointer;\n",
              "      display: none;\n",
              "      fill: #1967D2;\n",
              "      height: 32px;\n",
              "      padding: 0 0 0 0;\n",
              "      width: 32px;\n",
              "    }\n",
              "\n",
              "    .colab-df-convert:hover {\n",
              "      background-color: #E2EBFA;\n",
              "      box-shadow: 0px 1px 2px rgba(60, 64, 67, 0.3), 0px 1px 3px 1px rgba(60, 64, 67, 0.15);\n",
              "      fill: #174EA6;\n",
              "    }\n",
              "\n",
              "    [theme=dark] .colab-df-convert {\n",
              "      background-color: #3B4455;\n",
              "      fill: #D2E3FC;\n",
              "    }\n",
              "\n",
              "    [theme=dark] .colab-df-convert:hover {\n",
              "      background-color: #434B5C;\n",
              "      box-shadow: 0px 1px 3px 1px rgba(0, 0, 0, 0.15);\n",
              "      filter: drop-shadow(0px 1px 2px rgba(0, 0, 0, 0.3));\n",
              "      fill: #FFFFFF;\n",
              "    }\n",
              "  </style>\n",
              "\n",
              "      <script>\n",
              "        const buttonEl =\n",
              "          document.querySelector('#df-7ddec668-1cad-4d65-b4d6-496d2787429a button.colab-df-convert');\n",
              "        buttonEl.style.display =\n",
              "          google.colab.kernel.accessAllowed ? 'block' : 'none';\n",
              "\n",
              "        async function convertToInteractive(key) {\n",
              "          const element = document.querySelector('#df-7ddec668-1cad-4d65-b4d6-496d2787429a');\n",
              "          const dataTable =\n",
              "            await google.colab.kernel.invokeFunction('convertToInteractive',\n",
              "                                                     [key], {});\n",
              "          if (!dataTable) return;\n",
              "\n",
              "          const docLinkHtml = 'Like what you see? Visit the ' +\n",
              "            '<a target=\"_blank\" href=https://colab.research.google.com/notebooks/data_table.ipynb>data table notebook</a>'\n",
              "            + ' to learn more about interactive tables.';\n",
              "          element.innerHTML = '';\n",
              "          dataTable['output_type'] = 'display_data';\n",
              "          await google.colab.output.renderOutput(dataTable, element);\n",
              "          const docLink = document.createElement('div');\n",
              "          docLink.innerHTML = docLinkHtml;\n",
              "          element.appendChild(docLink);\n",
              "        }\n",
              "      </script>\n",
              "    </div>\n",
              "  </div>\n",
              "  "
            ]
          },
          "metadata": {},
          "execution_count": 932
        }
      ]
    },
    {
      "cell_type": "code",
      "source": [
        "# kernel density estimation (KDE)\n",
        "ax = boot_retention7.plot.kde(color=\"rb\")\n",
        "ax.set_xlabel(\"Průměr 7-denní retence\")\n",
        "ax.set_ylabel(\"Hustota\")\n",
        "ax.set_title(\"Průměr 7-denní retence pro každou skupinu\")\n",
        "ax.grid();"
      ],
      "metadata": {
        "colab": {
          "base_uri": "https://localhost:8080/",
          "height": 296
        },
        "id": "D8XK3RkY_Nvx",
        "outputId": "27c4c304-bc20-4687-fab6-da48fbb46e2a"
      },
      "execution_count": 933,
      "outputs": [
        {
          "output_type": "display_data",
          "data": {
            "text/plain": [
              "<Figure size 432x288 with 1 Axes>"
            ],
            "image/png": "[encoded data removed]"
          },
          "metadata": {
            "needs_background": "light"
          }
        }
      ]
    },
    {
      "cell_type": "markdown",
      "source": [
        "Z grafu lze vidět, že hráči skupiny Gate_30 zůstávají ve hře po 7 denní retenci déle. Zde se podíváme na pravděpodnost rozdílu mezi skupinami."
      ],
      "metadata": {
        "id": "HARu6nmLHlCw"
      }
    },
    {
      "cell_type": "code",
      "source": [
        "# Přidáme sloupec rozdílu v procentech mezi skupinami\n",
        "# Skupina 30 má větší jednodenní retenci\n",
        "boot_retention7['diff'] = ((boot_retention7['gate_30'] - boot_retention7['gate_40']) / boot_retention7['gate_40'] * 100)"
      ],
      "metadata": {
        "id": "MxH-2oQwABH_"
      },
      "execution_count": 934,
      "outputs": []
    },
    {
      "cell_type": "code",
      "source": [
        "boot_retention7.head()"
      ],
      "metadata": {
        "colab": {
          "base_uri": "https://localhost:8080/",
          "height": 206
        },
        "id": "Lq0UMKxiDFVE",
        "outputId": "e13e9bad-b82b-44b2-e8f3-46e8b448a408"
      },
      "execution_count": 935,
      "outputs": [
        {
          "output_type": "execute_result",
          "data": {
            "text/plain": [
              "version       gate_30   gate_40      diff\n",
              "retention_7  0.113979  0.110883  2.792164\n",
              "retention_7  0.116929  0.113508  3.013816\n",
              "retention_7  0.114947  0.112541  2.138364\n",
              "retention_7  0.116254  0.111279  4.471303\n",
              "retention_7  0.115039  0.112727  2.051555"
            ],
            "text/html": [
              "\n",
              "  <div id=\"df-25243ca3-1567-4cad-bbb4-345aebdb32f6\">\n",
              "    <div class=\"colab-df-container\">\n",
              "      <div>\n",
              "<style scoped>\n",
              "    .dataframe tbody tr th:only-of-type {\n",
              "        vertical-align: middle;\n",
              "    }\n",
              "\n",
              "    .dataframe tbody tr th {\n",
              "        vertical-align: top;\n",
              "    }\n",
              "\n",
              "    .dataframe thead th {\n",
              "        text-align: right;\n",
              "    }\n",
              "</style>\n",
              "<table border=\"1\" class=\"dataframe\">\n",
              "  <thead>\n",
              "    <tr style=\"text-align: right;\">\n",
              "      <th>version</th>\n",
              "      <th>gate_30</th>\n",
              "      <th>gate_40</th>\n",
              "      <th>diff</th>\n",
              "    </tr>\n",
              "  </thead>\n",
              "  <tbody>\n",
              "    <tr>\n",
              "      <th>retention_7</th>\n",
              "      <td>0.113979</td>\n",
              "      <td>0.110883</td>\n",
              "      <td>2.792164</td>\n",
              "    </tr>\n",
              "    <tr>\n",
              "      <th>retention_7</th>\n",
              "      <td>0.116929</td>\n",
              "      <td>0.113508</td>\n",
              "      <td>3.013816</td>\n",
              "    </tr>\n",
              "    <tr>\n",
              "      <th>retention_7</th>\n",
              "      <td>0.114947</td>\n",
              "      <td>0.112541</td>\n",
              "      <td>2.138364</td>\n",
              "    </tr>\n",
              "    <tr>\n",
              "      <th>retention_7</th>\n",
              "      <td>0.116254</td>\n",
              "      <td>0.111279</td>\n",
              "      <td>4.471303</td>\n",
              "    </tr>\n",
              "    <tr>\n",
              "      <th>retention_7</th>\n",
              "      <td>0.115039</td>\n",
              "      <td>0.112727</td>\n",
              "      <td>2.051555</td>\n",
              "    </tr>\n",
              "  </tbody>\n",
              "</table>\n",
              "</div>\n",
              "      <button class=\"colab-df-convert\" onclick=\"convertToInteractive('df-25243ca3-1567-4cad-bbb4-345aebdb32f6')\"\n",
              "              title=\"Convert this dataframe to an interactive table.\"\n",
              "              style=\"display:none;\">\n",
              "        \n",
              "  <svg xmlns=\"http://www.w3.org/2000/svg\" height=\"24px\"viewBox=\"0 0 24 24\"\n",
              "       width=\"24px\">\n",
              "    <path d=\"M0 0h24v24H0V0z\" fill=\"none\"/>\n",
              "    <path d=\"M18.56 5.44l.94 2.06.94-2.06 2.06-.94-2.06-.94-.94-2.06-.94 2.06-2.06.94zm-11 1L8.5 8.5l.94-2.06 2.06-.94-2.06-.94L8.5 2.5l-.94 2.06-2.06.94zm10 10l.94 2.06.94-2.06 2.06-.94-2.06-.94-.94-2.06-.94 2.06-2.06.94z\"/><path d=\"M17.41 7.96l-1.37-1.37c-.4-.4-.92-.59-1.43-.59-.52 0-1.04.2-1.43.59L10.3 9.45l-7.72 7.72c-.78.78-.78 2.05 0 2.83L4 21.41c.39.39.9.59 1.41.59.51 0 1.02-.2 1.41-.59l7.78-7.78 2.81-2.81c.8-.78.8-2.07 0-2.86zM5.41 20L4 18.59l7.72-7.72 1.47 1.35L5.41 20z\"/>\n",
              "  </svg>\n",
              "      </button>\n",
              "      \n",
              "  <style>\n",
              "    .colab-df-container {\n",
              "      display:flex;\n",
              "      flex-wrap:wrap;\n",
              "      gap: 12px;\n",
              "    }\n",
              "\n",
              "    .colab-df-convert {\n",
              "      background-color: #E8F0FE;\n",
              "      border: none;\n",
              "      border-radius: 50%;\n",
              "      cursor: pointer;\n",
              "      display: none;\n",
              "      fill: #1967D2;\n",
              "      height: 32px;\n",
              "      padding: 0 0 0 0;\n",
              "      width: 32px;\n",
              "    }\n",
              "\n",
              "    .colab-df-convert:hover {\n",
              "      background-color: #E2EBFA;\n",
              "      box-shadow: 0px 1px 2px rgba(60, 64, 67, 0.3), 0px 1px 3px 1px rgba(60, 64, 67, 0.15);\n",
              "      fill: #174EA6;\n",
              "    }\n",
              "\n",
              "    [theme=dark] .colab-df-convert {\n",
              "      background-color: #3B4455;\n",
              "      fill: #D2E3FC;\n",
              "    }\n",
              "\n",
              "    [theme=dark] .colab-df-convert:hover {\n",
              "      background-color: #434B5C;\n",
              "      box-shadow: 0px 1px 3px 1px rgba(0, 0, 0, 0.15);\n",
              "      filter: drop-shadow(0px 1px 2px rgba(0, 0, 0, 0.3));\n",
              "      fill: #FFFFFF;\n",
              "    }\n",
              "  </style>\n",
              "\n",
              "      <script>\n",
              "        const buttonEl =\n",
              "          document.querySelector('#df-25243ca3-1567-4cad-bbb4-345aebdb32f6 button.colab-df-convert');\n",
              "        buttonEl.style.display =\n",
              "          google.colab.kernel.accessAllowed ? 'block' : 'none';\n",
              "\n",
              "        async function convertToInteractive(key) {\n",
              "          const element = document.querySelector('#df-25243ca3-1567-4cad-bbb4-345aebdb32f6');\n",
              "          const dataTable =\n",
              "            await google.colab.kernel.invokeFunction('convertToInteractive',\n",
              "                                                     [key], {});\n",
              "          if (!dataTable) return;\n",
              "\n",
              "          const docLinkHtml = 'Like what you see? Visit the ' +\n",
              "            '<a target=\"_blank\" href=https://colab.research.google.com/notebooks/data_table.ipynb>data table notebook</a>'\n",
              "            + ' to learn more about interactive tables.';\n",
              "          element.innerHTML = '';\n",
              "          dataTable['output_type'] = 'display_data';\n",
              "          await google.colab.output.renderOutput(dataTable, element);\n",
              "          const docLink = document.createElement('div');\n",
              "          docLink.innerHTML = docLinkHtml;\n",
              "          element.appendChild(docLink);\n",
              "        }\n",
              "      </script>\n",
              "    </div>\n",
              "  </div>\n",
              "  "
            ]
          },
          "metadata": {},
          "execution_count": 935
        }
      ]
    },
    {
      "cell_type": "code",
      "source": [
        "# Graf rozdílu skupin v procentech\n",
        "ax = boot_retention7['diff'].plot.kde(color=\"b\")\n",
        "ax.set_title(\"Rozdíl v procentech a hustoty mezi oběma skupinami\")\n",
        "ax.set_xlabel('Rozdíl v procentech')\n",
        "ax.set_ylabel(\"Hustota\")\n",
        "ax.grid();"
      ],
      "metadata": {
        "colab": {
          "base_uri": "https://localhost:8080/",
          "height": 296
        },
        "id": "1Ku7j4fnDK2Y",
        "outputId": "0496b082-ae15-4001-918c-6687ee77e2c5"
      },
      "execution_count": 936,
      "outputs": [
        {
          "output_type": "display_data",
          "data": {
            "text/plain": [
              "<Figure size 432x288 with 1 Axes>"
            ],
            "image/png": "[encoded data removed]"
          },
          "metadata": {
            "needs_background": "light"
          }
        }
      ]
    },
    {
      "cell_type": "markdown",
      "source": [
        "Z grafu je patrné, že nejpravděpodobnější rozdíl v procentech se pohybujem kolem 3% až 8% a většina rozdělení **je nad 0% ve prospěch gate_30**"
      ],
      "metadata": {
        "id": "7mYrXDSVD3Qj"
      }
    },
    {
      "cell_type": "code",
      "source": [
        "# Výpočet pravděpodobnosti rozdílu většího než 0%\n",
        "probability = (boot_retention7['diff'] > 0).mean()\n",
        "print(f\"Pravděpodobnost, že 7 denní retence je větší, když je brána na úrovni 30 je: {round(probability,2) * 100}%\")"
      ],
      "metadata": {
        "colab": {
          "base_uri": "https://localhost:8080/"
        },
        "id": "y3OqiNhLE45k",
        "outputId": "31e2363a-b75f-4d57-9a9f-74a0ecd2c4ab"
      },
      "execution_count": 937,
      "outputs": [
        {
          "output_type": "stream",
          "name": "stdout",
          "text": [
            "Pravděpodobnost, že 7 denní retence je větší, když je brána na úrovni 30 je: 99.0%\n"
          ]
        }
      ]
    },
    {
      "cell_type": "markdown",
      "source": [
        "# Zhodnocení analýzy"
      ],
      "metadata": {
        "id": "yTm4MqrsKygT"
      }
    },
    {
      "cell_type": "markdown",
      "source": [
        "Během průzkumu dat jsme zjistili plno zajímavých informací, které by se mohly dále podrobněji zkoumat.\n",
        "### Zajímavé zjištění:\n",
        "\n",
        "* průměrný počet odehraných her všech skupin je: 23.92%   \n",
        "* největší skupina hráčů odehraje pouze 1 až 10 her\n",
        "* průměrný počet hráčů, kteří hrají více než 1 den je 38% hráčů  \n",
        "* průměrný počet hráčů, kteří hrají více než 7 dnů je 11% hráčů\n",
        "\n",
        "### Postřehy ke zkoumání:\n",
        "* Nejvíce hráčů opouští hru během prvních 10 her a až 68% hráčů hru hraje pouze 1 den. Předpoklad je, že hra není dostatečně atraktivní a hráči ji pouze vyzkouší a odejdou. Tato skupina nedojde ani k levelu, které otevírají reklamy a platební brány, což má negativní dopad na zpoplatnění produktu. Pro tuto skupinu by bylo zajímavé vymyslet s vývojáři a marketingovým týmem, jak hráče zaujmout během prvních her a nalákat je na dlouhodobější hraní.\n",
        "* Po 1 denní retenci dochází k dalšímu velkému úbytku hráču, kterých zůstává pouze 11% po 7 dni hraní. V této skupině už se nachází velké množství hráčů, kteří se dostanou k platební bráně a zde bylo provedena analýza jaké nastavení brány je vhodnější. Nicméně úbytek hráčů není způsoben pouze dosáhnutím brány, ale může být také důvodem obtížnosti levelů, které můžou mít vliv na udržení hráčů ve hře. Zde by bylo zajímavé provést další testování, jestli se procento hráčů nezvýšší zvýšením nebo snížením obtížnosti hry.\n",
        "* Hráči, kteří odehrají velké množství levelů a pokračují i po dosažení našich bran, tak ve hraní většinou pokračují a ubývají minimálně. Tato skupina se dá považovat za nadšence a hardcore hráče, kteří si hru velmi oblíbili. Tato skupina hráčů má předpoklad pro ochotu sledovat více reklam nebo k nastavení dalších brán, kterými by mohli dále procházet.   \n",
        "\n",
        "### Závěry analýzy:\n",
        "* jednodenní retence obou skupin má minimální (zanedbatelný) vliv na udržení hráčů ve hře. Nicméně hráči skupiny Gate 30 mají při 1 denní retenci větší udržení ve hře než hráči skupiny Gate 40.\n",
        "* Výsledekem bootstrapu 7-denní retence je silný důkaz, že skupina hráčů Gate 30 se udrží déle ve hře než skupina hráčů Gate 40. Pokud chceme udržet hráče déle ve hře neměli bychom posouvat bránu na Gate 40. Naše zjištění je zajímavé, protože před vypracováním analýzy bych hádal, že bude výsledek opačný. Pokud se zamyslím nad tímto výsledkem, tak to může být způsobeno tím, že méně hráčů se na úroveň Gate 40 dostane, protože je hraní omrzí. Skupina pro Gate 30 je pravděpodobně nastavena správně, protože hráče donutí si udělat přestávku a neomrzí je před dosažením brány. Zajímavé by bylo sledovat chování hráčů při nastavení brány například na level 20. Takto nastavená brána by měla mnohem větší procento hráčů, kteří by brány dosáhnuli a možná by pokračovali v hraní i po dosažení brány ve větším procentu než při bráně na levelu 30."
      ],
      "metadata": {
        "id": "0r4Blxkgnca0"
      }
    }
  ]
}
